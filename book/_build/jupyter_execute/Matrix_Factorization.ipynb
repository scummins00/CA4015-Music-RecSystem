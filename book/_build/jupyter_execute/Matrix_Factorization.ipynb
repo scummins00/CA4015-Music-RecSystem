{
 "cells": [
  {
   "cell_type": "markdown",
   "id": "c849594e",
   "metadata": {},
   "source": [
    "# Collaborative Filtering - Matrix Factorization\n",
    "In this Notebook, we will be performing collaborative filtering using matrix factorization. The steps we will follow are detailed in the introduction. We will be using TensorFlow as our ML framework for the development of our music recommender system. Let's begin by importing our packages, and building a sparse representation of our ratings matrix."
   ]
  },
  {
   "cell_type": "code",
   "execution_count": 1,
   "id": "f621c6ec",
   "metadata": {},
   "outputs": [],
   "source": [
    "import pandas as pd\n",
    "import numpy as np\n",
    "import tensorflow.compat.v1 as tf\n",
    "import collections\n",
    "from mpl_toolkits.mplot3d import Axes3D\n",
    "from IPython import display\n",
    "import sklearn\n",
    "import sklearn.manifold\n",
    "from matplotlib import pyplot as plt\n",
    "tf.compat.v1.disable_eager_execution()"
   ]
  },
  {
   "cell_type": "markdown",
   "id": "92af333e",
   "metadata": {},
   "source": [
    "We are importing a range of helper functions in the below cell. These functions are defined in `CFUtils.py`, and `CFModel.py`, both of which can be found in the [Github Repository](https://github.com/scummins00/CA4015-Music-RecSystem) for this assignment."
   ]
  },
  {
   "cell_type": "code",
   "execution_count": 2,
   "id": "972d1250",
   "metadata": {},
   "outputs": [
    {
     "ename": "ModuleNotFoundError",
     "evalue": "No module named 'seaborn'",
     "output_type": "error",
     "traceback": [
      "\u001b[1;31m---------------------------------------------------------------------------\u001b[0m",
      "\u001b[1;31mModuleNotFoundError\u001b[0m                       Traceback (most recent call last)",
      "\u001b[1;32m~\\AppData\\Local\\Temp/ipykernel_18260/3200806736.py\u001b[0m in \u001b[0;36m<module>\u001b[1;34m\u001b[0m\n\u001b[0;32m      1\u001b[0m \u001b[1;31m#Let's import our helper functions defined externally\u001b[0m\u001b[1;33m\u001b[0m\u001b[1;33m\u001b[0m\u001b[1;33m\u001b[0m\u001b[0m\n\u001b[1;32m----> 2\u001b[1;33m \u001b[1;32mfrom\u001b[0m \u001b[0mCFUtils\u001b[0m \u001b[1;32mimport\u001b[0m \u001b[0mbuild_rating_sparse_tensor\u001b[0m\u001b[1;33m,\u001b[0m \u001b[0msplit_dataframe\u001b[0m\u001b[1;33m,\u001b[0m \u001b[0msparse_mean_square_error\u001b[0m\u001b[1;33m,\u001b[0m \u001b[0mbuild_model\u001b[0m\u001b[1;33m,\u001b[0m \u001b[0mitem_neighbors\u001b[0m\u001b[1;33m,\u001b[0m \u001b[0muser_recommendations\u001b[0m\u001b[1;33m\u001b[0m\u001b[1;33m\u001b[0m\u001b[0m\n\u001b[0m\u001b[0;32m      3\u001b[0m \u001b[1;32mfrom\u001b[0m \u001b[0mCFModel\u001b[0m \u001b[1;32mimport\u001b[0m \u001b[0mCFModel\u001b[0m\u001b[1;33m\u001b[0m\u001b[1;33m\u001b[0m\u001b[0m\n",
      "\u001b[1;32mD:\\DCU\\4th_year\\CA4015\\CA4015-Music-RecSystem\\book\\CFUtils.py\u001b[0m in \u001b[0;36m<module>\u001b[1;34m\u001b[0m\n\u001b[0;32m    152\u001b[0m   \u001b[1;31m# @title Embedding Visualization code (run this cell)\u001b[0m\u001b[1;33m\u001b[0m\u001b[1;33m\u001b[0m\u001b[1;33m\u001b[0m\u001b[0m\n\u001b[0;32m    153\u001b[0m \u001b[1;33m\u001b[0m\u001b[0m\n\u001b[1;32m--> 154\u001b[1;33m \u001b[1;32mimport\u001b[0m \u001b[0mseaborn\u001b[0m \u001b[1;32mas\u001b[0m \u001b[0msns\u001b[0m\u001b[1;33m\u001b[0m\u001b[1;33m\u001b[0m\u001b[0m\n\u001b[0m\u001b[0;32m    155\u001b[0m \u001b[1;32mdef\u001b[0m \u001b[0mitem_embedding_norm\u001b[0m\u001b[1;33m(\u001b[0m\u001b[0mmodels\u001b[0m\u001b[1;33m,\u001b[0m \u001b[0martists\u001b[0m\u001b[1;33m,\u001b[0m \u001b[0mrating_matrix\u001b[0m\u001b[1;33m)\u001b[0m\u001b[1;33m:\u001b[0m\u001b[1;33m\u001b[0m\u001b[1;33m\u001b[0m\u001b[0m\n\u001b[0;32m    156\u001b[0m     \"\"\"Visualizes the norm and number of ratings of the item embeddings.\n",
      "\u001b[1;31mModuleNotFoundError\u001b[0m: No module named 'seaborn'"
     ]
    }
   ],
   "source": [
    "#Let's import our helper functions defined externally\n",
    "from CFUtils import build_rating_sparse_tensor, split_dataframe, sparse_mean_square_error, build_model, item_neighbors, user_recommendations\n",
    "from CFModel import CFModel"
   ]
  },
  {
   "cell_type": "code",
   "execution_count": 3,
   "id": "90d7bab8",
   "metadata": {},
   "outputs": [],
   "source": [
    "# Add some convenience functions to Pandas DataFrame.\n",
    "pd.options.display.max_rows = 10\n",
    "pd.options.display.float_format = '{:.3f}'.format\n",
    "def mask(df, key, function):\n",
    "    \"\"\"Returns a filtered dataframe, by applying function to key\"\"\"\n",
    "    return df[function(df[key])]\n",
    "\n",
    "def flatten_cols(df):\n",
    "    df.columns = [' '.join(col).strip() for col in df.columns.values]\n",
    "    return df\n",
    "\n",
    "pd.DataFrame.mask = mask\n",
    "pd.DataFrame.flatten_cols = flatten_cols"
   ]
  },
  {
   "cell_type": "markdown",
   "id": "780ad665",
   "metadata": {},
   "source": [
    "## Feature Engineering\n",
    "In the following cells, we will be re-mapping our user ID's to fit into a scale that is defined as $[0, m]$, where $m$ is our number of unique users. Currently, despite there being only 1,892 unique users, profiles exist with ID's such as 1,893, 2,000, and so on. This is an issue because when we generate our ratings matrix, we will be creating rows that do not represent any users. Mapping our user ID's to a suitable scale is good practice and will avoid issues in the future.\n",
    "\n",
    "The case is the same for artist ID's with them not being presented in a contiguous order. We will apply the same principal above to remap our artist ID's to the correct scale."
   ]
  },
  {
   "cell_type": "code",
   "execution_count": 178,
   "id": "2f8610dc",
   "metadata": {},
   "outputs": [],
   "source": [
    "#Let's define our amount of users\n",
    "rating_matrix = pd.read_csv('../data/user_artists.dat', sep='\\t', encoding='latin-1')\n",
    "num_users = len(rating_matrix.userID.unique())\n",
    "\n",
    "#Extract userID column\n",
    "userids = np.asarray(rating_matrix.userID)\n",
    "\n",
    "#Remap the column\n",
    "u_mapper, u_ind = np.unique(userids, return_inverse=True)"
   ]
  },
  {
   "cell_type": "code",
   "execution_count": 179,
   "id": "780fe4a5",
   "metadata": {},
   "outputs": [],
   "source": [
    "#Let's define our amount of artists\n",
    "artists = pd.read_csv('../data/artists.dat', sep='\\t', encoding='latin-1')\n",
    "artists.rename(columns={'id':'artistID'}, inplace=True)\n",
    "num_artists = len(artists.artistID.unique())\n",
    "\n",
    "#Extract artistID column\n",
    "artistids = np.asarray(rating_matrix.artistID)\n",
    "\n",
    "#Remap the column\n",
    "a_mapper, a_ind = np.unique(artistids, return_inverse=True)"
   ]
  },
  {
   "cell_type": "code",
   "execution_count": 180,
   "id": "8f300fe1",
   "metadata": {},
   "outputs": [],
   "source": [
    "#Assert that u_ind and userID column are of same size\n",
    "assert(len(u_ind) == len(rating_matrix.userID))\n",
    "\n",
    "#Assert that a_ind and artistID column are of same size\n",
    "assert(len(a_ind) == len(rating_matrix.artistID))"
   ]
  },
  {
   "cell_type": "code",
   "execution_count": 181,
   "id": "206a2098",
   "metadata": {},
   "outputs": [],
   "source": [
    "# Let's replace old columns with new ind ones\n",
    "rating_matrix.userID = u_ind\n",
    "rating_matrix.artistID = a_ind\n",
    "\n",
    "#Let's ensure the max value is approriate\n",
    "assert(rating_matrix.userID.unique().max() == 1891)\n",
    "assert(rating_matrix.artistID.unique().max() == 17631)"
   ]
  },
  {
   "cell_type": "markdown",
   "id": "37c16a10",
   "metadata": {},
   "source": [
    "## The Problem With Rating Values\n",
    "For this collaborative filtering model, I would have liked to make use of the explicit rating data available in the 'weight' column of the ratings matrix. Through trial and error, I've come to the conclusion that using this data explicitly will not create an effective recommendation system.\n",
    "\n",
    "The reason for this is to do with the the distribution of user to artist listens. Many user to artist combinations have only a value of 1 for the 'weight' column. When aggregating the total listens for artists by summing the weights, we see a huge portion of the artists still only have 1 or so listens, whilst popular artists such as Katy Perry, Lady Gaga, and Britney Spears, can accumulate millions of listens, Britney Spears coming out on top with 2.4 million listens from users in this dataset. This problem is known as the *Long Tail Problem* {cite}`anderson2006long`.\n",
    "\n",
    "Intuitively, this is not suitable for a recommendation system because in this case if we ignore the outliers, we are ignoring the most important features of the dataset. Normalising our 'weight' column has little-to-no effect on performance as squashing such disparate values into a smaller range does not fix the disparity.\n",
    "\n",
    "Another approach is to use a binary representation of the ratings matrix. If a user has ever listened to an artist, the 'listened' column receives a value of 1. Otherwise, the value is 0. This approach does result in some information loss, as we are no longer aware of how regular of a listener a user is to a particular artist."
   ]
  },
  {
   "cell_type": "code",
   "execution_count": 182,
   "id": "c01fe518",
   "metadata": {},
   "outputs": [],
   "source": [
    "#We're going to make a binary representation of the matrix. If the user ever listened to the artist, they get a value of 1. 0 otherwise\n",
    "rating_matrix['listened'] = 1.0"
   ]
  },
  {
   "cell_type": "code",
   "execution_count": 183,
   "id": "8866407c",
   "metadata": {},
   "outputs": [
    {
     "data": {
      "text/html": [
       "<div>\n",
       "<style scoped>\n",
       "    .dataframe tbody tr th:only-of-type {\n",
       "        vertical-align: middle;\n",
       "    }\n",
       "\n",
       "    .dataframe tbody tr th {\n",
       "        vertical-align: top;\n",
       "    }\n",
       "\n",
       "    .dataframe thead th {\n",
       "        text-align: right;\n",
       "    }\n",
       "</style>\n",
       "<table border=\"1\" class=\"dataframe\">\n",
       "  <thead>\n",
       "    <tr style=\"text-align: right;\">\n",
       "      <th></th>\n",
       "      <th>userID</th>\n",
       "      <th>artistID</th>\n",
       "      <th>weight</th>\n",
       "      <th>listened</th>\n",
       "    </tr>\n",
       "  </thead>\n",
       "  <tbody>\n",
       "    <tr>\n",
       "      <th>count</th>\n",
       "      <td>92834.000</td>\n",
       "      <td>92834.000</td>\n",
       "      <td>92834.000</td>\n",
       "      <td>92834.000</td>\n",
       "    </tr>\n",
       "    <tr>\n",
       "      <th>mean</th>\n",
       "      <td>944.222</td>\n",
       "      <td>3235.737</td>\n",
       "      <td>745.244</td>\n",
       "      <td>1.000</td>\n",
       "    </tr>\n",
       "    <tr>\n",
       "      <th>std</th>\n",
       "      <td>546.751</td>\n",
       "      <td>4197.217</td>\n",
       "      <td>3751.322</td>\n",
       "      <td>0.000</td>\n",
       "    </tr>\n",
       "    <tr>\n",
       "      <th>min</th>\n",
       "      <td>0.000</td>\n",
       "      <td>0.000</td>\n",
       "      <td>1.000</td>\n",
       "      <td>1.000</td>\n",
       "    </tr>\n",
       "    <tr>\n",
       "      <th>25%</th>\n",
       "      <td>470.000</td>\n",
       "      <td>430.000</td>\n",
       "      <td>107.000</td>\n",
       "      <td>1.000</td>\n",
       "    </tr>\n",
       "    <tr>\n",
       "      <th>50%</th>\n",
       "      <td>944.000</td>\n",
       "      <td>1237.000</td>\n",
       "      <td>260.000</td>\n",
       "      <td>1.000</td>\n",
       "    </tr>\n",
       "    <tr>\n",
       "      <th>75%</th>\n",
       "      <td>1416.000</td>\n",
       "      <td>4266.000</td>\n",
       "      <td>614.000</td>\n",
       "      <td>1.000</td>\n",
       "    </tr>\n",
       "    <tr>\n",
       "      <th>max</th>\n",
       "      <td>1891.000</td>\n",
       "      <td>17631.000</td>\n",
       "      <td>352698.000</td>\n",
       "      <td>1.000</td>\n",
       "    </tr>\n",
       "  </tbody>\n",
       "</table>\n",
       "</div>"
      ],
      "text/plain": [
       "         userID  artistID     weight  listened\n",
       "count 92834.000 92834.000  92834.000 92834.000\n",
       "mean    944.222  3235.737    745.244     1.000\n",
       "std     546.751  4197.217   3751.322     0.000\n",
       "min       0.000     0.000      1.000     1.000\n",
       "25%     470.000   430.000    107.000     1.000\n",
       "50%     944.000  1237.000    260.000     1.000\n",
       "75%    1416.000  4266.000    614.000     1.000\n",
       "max    1891.000 17631.000 352698.000     1.000"
      ]
     },
     "execution_count": 183,
     "metadata": {},
     "output_type": "execute_result"
    }
   ],
   "source": [
    "rating_matrix.describe()"
   ]
  },
  {
   "cell_type": "markdown",
   "id": "1323dbc9",
   "metadata": {},
   "source": [
    "### Adding Genres to Artists\n",
    "For visualisating our recommendations, we will view the dispersion of genres in latent space. This will allow us to understand if music of similar genres generally cluster around each other. For this, we would like to be able to join our artists and genres tables.\n",
    "\n",
    "We must firstly merge the `tags.dat` data with the `user_taggedartists.dat` data. We then `groupby` artist name and use a lambda function to list the genres for that artist. It should be noted that `user_taggedartists.dat` is user-generated information, and therefore may contain some innacurate or unimportant artist tags. To counteract this, we will only be including a tag as part of the artists genre if it has been associated with that artist on 3 or more seperate occasions."
   ]
  },
  {
   "cell_type": "code",
   "execution_count": 184,
   "id": "7dfc6b9e",
   "metadata": {},
   "outputs": [],
   "source": [
    "#Let's read in genres and tags\n",
    "genres = pd.read_csv('../data/tags.dat', sep='\\t', encoding='latin-1')\n",
    "artists_tagged = pd.read_csv('../data/user_taggedartists.dat', sep='\\t', encoding='latin-1')"
   ]
  },
  {
   "cell_type": "code",
   "execution_count": 185,
   "id": "71068543",
   "metadata": {},
   "outputs": [],
   "source": [
    "#Let's match artists to genres\n",
    "artists_tagged = artists_tagged.merge(genres[['tagID', 'tagValue']], on='tagID')\n",
    "artists_tagged = (artists_tagged.groupby('artistID')['tagValue'].apply(lambda grp: list(grp))).reset_index()"
   ]
  },
  {
   "cell_type": "markdown",
   "id": "515967ee",
   "metadata": {},
   "source": [
    "We know that as tags are applied by users, they can be innaccurate and messy. In the following cell we perform these actions:\n",
    "1. Loop through each artist in our `artists_tagged` table\n",
    "1. Create a dictionary for that artist's tags\n",
    "1. Count the tags using the dictionary\n",
    "1. Order the artist tags by number of appearances and save them in a `new_tags` variable.\n",
    "1. The artist receives the `new_tags` variable (\"No Tags\" string if list is empty.)"
   ]
  },
  {
   "cell_type": "code",
   "execution_count": 186,
   "id": "e3e737a7",
   "metadata": {},
   "outputs": [],
   "source": [
    "for index, row in artists_tagged.iterrows():\n",
    "    d = {}\n",
    "    new_tags = []\n",
    "    for val in row.tagValue:\n",
    "        if val not in d:\n",
    "            d[val] = 1\n",
    "        else:\n",
    "            d[val] += 1\n",
    "    for key, value in d.items():\n",
    "        if d[key] >=3:\n",
    "            new_tags.append([key, value])\n",
    "    new_tags.sort(key=lambda x:x[1], reverse=True)\n",
    "    if new_tags:\n",
    "        artists_tagged.at[index, \"tagValue\"] = [tag[0] for tag in new_tags]\n",
    "        artists_tagged.at[index, 'genre'] = artists_tagged.at[index, 'tagValue'][0]"
   ]
  },
  {
   "cell_type": "code",
   "execution_count": 187,
   "id": "83ef25c7",
   "metadata": {},
   "outputs": [],
   "source": [
    "#Let's add these tags to our artists\n",
    "artists = artists.join(artists_tagged, on='artistID', how='left', rsuffix='right')\n",
    "artists.tagValue = artists.tagValue.fillna('No Tags')\n",
    "artists.genre = artists.genre.fillna('No Tags')\n",
    "artists.drop(columns=['artistIDright', 'url', 'pictureURL'], inplace=True)\n",
    "artists.rename(columns={'tagValue': 'genres'}, inplace=True)"
   ]
  },
  {
   "cell_type": "code",
   "execution_count": 188,
   "id": "d8a98780",
   "metadata": {},
   "outputs": [
    {
     "data": {
      "text/html": [
       "<div>\n",
       "<style scoped>\n",
       "    .dataframe tbody tr th:only-of-type {\n",
       "        vertical-align: middle;\n",
       "    }\n",
       "\n",
       "    .dataframe tbody tr th {\n",
       "        vertical-align: top;\n",
       "    }\n",
       "\n",
       "    .dataframe thead th {\n",
       "        text-align: right;\n",
       "    }\n",
       "</style>\n",
       "<table border=\"1\" class=\"dataframe\">\n",
       "  <thead>\n",
       "    <tr style=\"text-align: right;\">\n",
       "      <th></th>\n",
       "      <th>artistID</th>\n",
       "      <th>name</th>\n",
       "      <th>genres</th>\n",
       "      <th>genre</th>\n",
       "    </tr>\n",
       "  </thead>\n",
       "  <tbody>\n",
       "    <tr>\n",
       "      <th>0</th>\n",
       "      <td>1</td>\n",
       "      <td>MALICE MIZER</td>\n",
       "      <td>[darkwave, german, gothic]</td>\n",
       "      <td>darkwave</td>\n",
       "    </tr>\n",
       "    <tr>\n",
       "      <th>1</th>\n",
       "      <td>2</td>\n",
       "      <td>Diary of Dreams</td>\n",
       "      <td>[black metal]</td>\n",
       "      <td>black metal</td>\n",
       "    </tr>\n",
       "    <tr>\n",
       "      <th>2</th>\n",
       "      <td>3</td>\n",
       "      <td>Carpathian Forest</td>\n",
       "      <td>[j-rock, japanese, visual kei, gothic]</td>\n",
       "      <td>j-rock</td>\n",
       "    </tr>\n",
       "    <tr>\n",
       "      <th>3</th>\n",
       "      <td>4</td>\n",
       "      <td>Moi dix Mois</td>\n",
       "      <td>[darkwave]</td>\n",
       "      <td>darkwave</td>\n",
       "    </tr>\n",
       "    <tr>\n",
       "      <th>4</th>\n",
       "      <td>5</td>\n",
       "      <td>Bella Morte</td>\n",
       "      <td>[gothic metal, doom metal, black metal]</td>\n",
       "      <td>gothic metal</td>\n",
       "    </tr>\n",
       "    <tr>\n",
       "      <th>...</th>\n",
       "      <td>...</td>\n",
       "      <td>...</td>\n",
       "      <td>...</td>\n",
       "      <td>...</td>\n",
       "    </tr>\n",
       "    <tr>\n",
       "      <th>17627</th>\n",
       "      <td>18741</td>\n",
       "      <td>Diamanda GalÃ¡s</td>\n",
       "      <td>No Tags</td>\n",
       "      <td>No Tags</td>\n",
       "    </tr>\n",
       "    <tr>\n",
       "      <th>17628</th>\n",
       "      <td>18742</td>\n",
       "      <td>Aya RL</td>\n",
       "      <td>No Tags</td>\n",
       "      <td>No Tags</td>\n",
       "    </tr>\n",
       "    <tr>\n",
       "      <th>17629</th>\n",
       "      <td>18743</td>\n",
       "      <td>Coptic Rain</td>\n",
       "      <td>No Tags</td>\n",
       "      <td>No Tags</td>\n",
       "    </tr>\n",
       "    <tr>\n",
       "      <th>17630</th>\n",
       "      <td>18744</td>\n",
       "      <td>Oz Alchemist</td>\n",
       "      <td>No Tags</td>\n",
       "      <td>No Tags</td>\n",
       "    </tr>\n",
       "    <tr>\n",
       "      <th>17631</th>\n",
       "      <td>18745</td>\n",
       "      <td>Grzegorz Tomczak</td>\n",
       "      <td>No Tags</td>\n",
       "      <td>No Tags</td>\n",
       "    </tr>\n",
       "  </tbody>\n",
       "</table>\n",
       "<p>17632 rows × 4 columns</p>\n",
       "</div>"
      ],
      "text/plain": [
       "       artistID               name                                   genres  \\\n",
       "0             1       MALICE MIZER               [darkwave, german, gothic]   \n",
       "1             2    Diary of Dreams                            [black metal]   \n",
       "2             3  Carpathian Forest   [j-rock, japanese, visual kei, gothic]   \n",
       "3             4       Moi dix Mois                               [darkwave]   \n",
       "4             5        Bella Morte  [gothic metal, doom metal, black metal]   \n",
       "...         ...                ...                                      ...   \n",
       "17627     18741    Diamanda GalÃ¡s                                  No Tags   \n",
       "17628     18742             Aya RL                                  No Tags   \n",
       "17629     18743        Coptic Rain                                  No Tags   \n",
       "17630     18744       Oz Alchemist                                  No Tags   \n",
       "17631     18745   Grzegorz Tomczak                                  No Tags   \n",
       "\n",
       "              genre  \n",
       "0          darkwave  \n",
       "1       black metal  \n",
       "2            j-rock  \n",
       "3          darkwave  \n",
       "4      gothic metal  \n",
       "...             ...  \n",
       "17627       No Tags  \n",
       "17628       No Tags  \n",
       "17629       No Tags  \n",
       "17630       No Tags  \n",
       "17631       No Tags  \n",
       "\n",
       "[17632 rows x 4 columns]"
      ]
     },
     "execution_count": 188,
     "metadata": {},
     "output_type": "execute_result"
    }
   ],
   "source": [
    "artists"
   ]
  },
  {
   "cell_type": "markdown",
   "id": "fd0fda51",
   "metadata": {},
   "source": [
    "### Artist Total Listens Value\n",
    "Later on we will use an artists total number of listens as part of our visualisations."
   ]
  },
  {
   "cell_type": "code",
   "execution_count": 109,
   "id": "2243b9e7",
   "metadata": {},
   "outputs": [],
   "source": [
    "#Let's groupby artist ID and sum weight for their total listens\n",
    "artist_tot_listens = rating_matrix[['artistID', 'weight']].groupby('artistID').count()\n",
    "\n",
    "#Let's also add the artist name for clarity\n",
    "artist_tot_listens = artist_tot_listens.join(other=artists, lsuffix='artistID', rsuffix='id')[['name', 'weight']].reset_index()"
   ]
  },
  {
   "cell_type": "markdown",
   "id": "66dc33c1",
   "metadata": {},
   "source": [
    "# Collaborative Filtering Model\n",
    "At this point, we are ready to build a very basic first version of our collaborative filtering model. In the below code, we will be using a modified version of the `build_model` function defined in `CFUtils.py`. We modified this function to include two extra parameters:\n",
    "* `num_queries` - Defined as the number of users in our case. Used to define the length of the $U$ user embedding.\n",
    "* `num_items` - Defined as the number of artists in our case. Used to define the length of the $V$ item embedding.\n",
    "\n",
    "The helper functions in `CFUtils.py`, and the `CFModel` class provided in `CFModel.py` were designed specifically for [Recommendation System Colab](https://colab.research.google.com/github/google/eng-edu/blob/main/ml/recommendation-systems/recommendation-systems.ipynb?utm_source=ss-recommendation-systems&utm_campaign=colab-external&utm_medium=referral&utm_content=recommendation-systems#scrollTo=_BlRIQJYo4tt), meaning that the length of the embedding vectors were hard-coded in. The inclusion of these two extra parameters allows us to apply this model for new use-cases. In the cell below, we will do a trial run of our model and discuss the results after."
   ]
  },
  {
   "cell_type": "code",
   "execution_count": 59,
   "id": "c5b6431d",
   "metadata": {},
   "outputs": [
    {
     "name": "stdout",
     "output_type": "stream",
     "text": [
      "WARNING:tensorflow:`tf.train.start_queue_runners()` was called when no queue runners were defined. You can safely remove the call to this deprecated function.\n",
      " iteration 1000: train_error=0.150679, test_error=0.238260"
     ]
    },
    {
     "data": {
      "text/plain": [
       "[{'train_error': 0.15067895, 'test_error': 0.23825963}]"
      ]
     },
     "execution_count": 59,
     "metadata": {},
     "output_type": "execute_result"
    },
    {
     "data": {
      "image/png": "[encoded data removed]",
      "text/plain": [
       "<Figure size 1440x576 with 1 Axes>"
      ]
     },
     "metadata": {
      "filenames": {
       "image/png": "D:\\DCU\\4th_year\\CA4015\\CA4015-Music-RecSystem\\book\\_build\\jupyter_execute\\Matrix_Factorization_23_2.png"
      },
      "needs_background": "light"
     },
     "output_type": "display_data"
    }
   ],
   "source": [
    "# Build the CF model and train it.\n",
    "model = build_model(rating_matrix, num_queries=num_users, num_items=num_artists, embedding_dim=30, init_stddev=0.05)\n",
    "model.train(num_iterations=1000, learning_rate=10.)"
   ]
  },
  {
   "cell_type": "markdown",
   "id": "a3dcbbb6",
   "metadata": {},
   "source": [
    "In the above graph, it can be observed that both `train_eror` and `test_error` are small values, indicating good performance of the model overall. However, we already know that the recommendations for this basic model will likely be poor.\n",
    "\n",
    "Let's take a closer look at our embeddings. We'll view the embeddings near 'Adele'."
   ]
  },
  {
   "cell_type": "code",
   "execution_count": 110,
   "id": "6920bcce",
   "metadata": {},
   "outputs": [
    {
     "name": "stdout",
     "output_type": "stream",
     "text": [
      "Nearest neighbors of : Adele.\n"
     ]
    },
    {
     "data": {
      "text/html": [
       "<div>\n",
       "<style scoped>\n",
       "    .dataframe tbody tr th:only-of-type {\n",
       "        vertical-align: middle;\n",
       "    }\n",
       "\n",
       "    .dataframe tbody tr th {\n",
       "        vertical-align: top;\n",
       "    }\n",
       "\n",
       "    .dataframe thead th {\n",
       "        text-align: right;\n",
       "    }\n",
       "</style>\n",
       "<table border=\"1\" class=\"dataframe\">\n",
       "  <thead>\n",
       "    <tr style=\"text-align: right;\">\n",
       "      <th></th>\n",
       "      <th>dot score</th>\n",
       "      <th>name</th>\n",
       "    </tr>\n",
       "  </thead>\n",
       "  <tbody>\n",
       "    <tr>\n",
       "      <th>1919</th>\n",
       "      <td>1.196</td>\n",
       "      <td>Adele</td>\n",
       "    </tr>\n",
       "    <tr>\n",
       "      <th>1444</th>\n",
       "      <td>1.168</td>\n",
       "      <td>Selena Gomez</td>\n",
       "    </tr>\n",
       "    <tr>\n",
       "      <th>334</th>\n",
       "      <td>1.164</td>\n",
       "      <td>Cher</td>\n",
       "    </tr>\n",
       "    <tr>\n",
       "      <th>518</th>\n",
       "      <td>1.161</td>\n",
       "      <td>Jeffree Star</td>\n",
       "    </tr>\n",
       "    <tr>\n",
       "      <th>303</th>\n",
       "      <td>1.153</td>\n",
       "      <td>Danity Kane</td>\n",
       "    </tr>\n",
       "    <tr>\n",
       "      <th>1449</th>\n",
       "      <td>1.152</td>\n",
       "      <td>Miranda Cosgrove</td>\n",
       "    </tr>\n",
       "  </tbody>\n",
       "</table>\n",
       "</div>"
      ],
      "text/plain": [
       "      dot score              name\n",
       "1919      1.196             Adele\n",
       "1444      1.168      Selena Gomez\n",
       "334       1.164              Cher\n",
       "518       1.161      Jeffree Star\n",
       "303       1.153       Danity Kane\n",
       "1449      1.152  Miranda Cosgrove"
      ]
     },
     "metadata": {},
     "output_type": "display_data"
    },
    {
     "name": "stdout",
     "output_type": "stream",
     "text": [
      "Nearest neighbors of : Adele.\n"
     ]
    },
    {
     "data": {
      "text/html": [
       "<div>\n",
       "<style scoped>\n",
       "    .dataframe tbody tr th:only-of-type {\n",
       "        vertical-align: middle;\n",
       "    }\n",
       "\n",
       "    .dataframe tbody tr th {\n",
       "        vertical-align: top;\n",
       "    }\n",
       "\n",
       "    .dataframe thead th {\n",
       "        text-align: right;\n",
       "    }\n",
       "</style>\n",
       "<table border=\"1\" class=\"dataframe\">\n",
       "  <thead>\n",
       "    <tr style=\"text-align: right;\">\n",
       "      <th></th>\n",
       "      <th>cosine score</th>\n",
       "      <th>name</th>\n",
       "    </tr>\n",
       "  </thead>\n",
       "  <tbody>\n",
       "    <tr>\n",
       "      <th>1919</th>\n",
       "      <td>1.000</td>\n",
       "      <td>Adele</td>\n",
       "    </tr>\n",
       "    <tr>\n",
       "      <th>1444</th>\n",
       "      <td>0.954</td>\n",
       "      <td>Selena Gomez</td>\n",
       "    </tr>\n",
       "    <tr>\n",
       "      <th>1449</th>\n",
       "      <td>0.951</td>\n",
       "      <td>Miranda Cosgrove</td>\n",
       "    </tr>\n",
       "    <tr>\n",
       "      <th>518</th>\n",
       "      <td>0.950</td>\n",
       "      <td>Jeffree Star</td>\n",
       "    </tr>\n",
       "    <tr>\n",
       "      <th>532</th>\n",
       "      <td>0.950</td>\n",
       "      <td>Maroon 5</td>\n",
       "    </tr>\n",
       "    <tr>\n",
       "      <th>680</th>\n",
       "      <td>0.949</td>\n",
       "      <td>Selena Gomez &amp; the Scene</td>\n",
       "    </tr>\n",
       "  </tbody>\n",
       "</table>\n",
       "</div>"
      ],
      "text/plain": [
       "      cosine score                      name\n",
       "1919         1.000                     Adele\n",
       "1444         0.954              Selena Gomez\n",
       "1449         0.951          Miranda Cosgrove\n",
       "518          0.950              Jeffree Star\n",
       "532          0.950                  Maroon 5\n",
       "680          0.949  Selena Gomez & the Scene"
      ]
     },
     "metadata": {},
     "output_type": "display_data"
    }
   ],
   "source": [
    "item_neighbors(model,title_substring=\"Adele\", measure='dot', items=artists)\n",
    "item_neighbors(model, title_substring=\"Adele\", measure='cosine', items=artists)"
   ]
  },
  {
   "cell_type": "markdown",
   "id": "1d85baa7",
   "metadata": {},
   "source": [
    "### Current Model Predictions\n",
    "At a glance, the embeddings closest to Adele seem reasonable, in the sense that they are all popular artist names that are somewhat familiar. This makes sense, Adele being one of the most popular artists in 2011. \n",
    "\n",
    "With basic recommendation systems, we often observe the appearance of 'niche' items (artists in our case) near our embeddings. This is due to the fact that these little-known artists can have a randomly assigned norm with a high value that is never corrected. We somewhat avoid this issue in our model generation by incorporating a relatively small `init_stddev` value of 0.05."
   ]
  },
  {
   "cell_type": "code",
   "execution_count": 61,
   "id": "a9898424",
   "metadata": {},
   "outputs": [],
   "source": [
    "from CFUtils import tsne_item_embeddings, visualize_item_embeddings, item_embedding_norm, build_regularized_model"
   ]
  },
  {
   "cell_type": "code",
   "execution_count": 62,
   "id": "cd384137",
   "metadata": {
    "scrolled": false
   },
   "outputs": [
    {
     "data": {
      "image/png": "[encoded data removed]",
      "text/plain": [
       "<Figure size 720x720 with 1 Axes>"
      ]
     },
     "metadata": {
      "filenames": {
       "image/png": "D:\\DCU\\4th_year\\CA4015\\CA4015-Music-RecSystem\\book\\_build\\jupyter_execute\\Matrix_Factorization_28_0.png"
      },
      "needs_background": "light"
     },
     "output_type": "display_data"
    }
   ],
   "source": [
    "item_embedding_norm(model, artist_tot_listens, rating_matrix)"
   ]
  },
  {
   "cell_type": "markdown",
   "id": "7745b4d8",
   "metadata": {},
   "source": [
    "### Norm Analysis\n",
    "Viewing the relation between the number of users who listen to an artist and that artist's norm, we see that our norm values are somewhat reasonable. The values seem to plateaux near the top. This results in lesser known artists unreasonably receiving higher norm values. Again, instantiating the norms using a normal distribution with a small standard deviation ensures that few niche artists receive high norms. This does not completely solve the issue.\n",
    "\n",
    "To correct this behaviour, we can use regularization terms. Regularization terms introduce some bias in to our data which aims to reduce the impact of the behaviour previously discussed. We should expect to see less-performant error scores for our regularized model. This is okay however, as we should see improved recommendations being made.\n",
    "\n",
    "---\n",
    "## Regularisation\n",
    "We'll now use two regularization techniques defined and discussed in our introduction section. Namely, *L2 Regularization*, and *Gravity Term* regularization. Essentially, these two terms aim to correct embeddings after they are initialised.\n",
    "\n",
    "Our `build_regularized_model()` helper function defines both of our regularization terms and combines them into our `total_loss` function which is then provided to our `CFModel` class in place of the previous simplistic loss function. "
   ]
  },
  {
   "cell_type": "code",
   "execution_count": 16,
   "id": "7cf50e59",
   "metadata": {},
   "outputs": [
    {
     "name": "stdout",
     "output_type": "stream",
     "text": [
      "WARNING:tensorflow:From D:\\DCU\\4th_year\\CA4015\\CA4015-Music-RecSystem\\book\\CFModel.py:55: start_queue_runners (from tensorflow.python.training.queue_runner_impl) is deprecated and will be removed in a future version.\n",
      "Instructions for updating:\n",
      "To construct input pipelines, use the `tf.data` module.\n",
      "WARNING:tensorflow:`tf.train.start_queue_runners()` was called when no queue runners were defined. You can safely remove the call to this deprecated function.\n",
      " iteration 2000: train_error_observed=0.296637, test_error_observed=0.326611, observed_loss=0.296637, regularization_loss=0.209359, gravity_loss=0.034404"
     ]
    },
    {
     "data": {
      "text/plain": [
       "[{'train_error_observed': 0.29663688, 'test_error_observed': 0.32661134},\n",
       " {'observed_loss': 0.29663688,\n",
       "  'regularization_loss': 0.20935923,\n",
       "  'gravity_loss': 0.034403637}]"
      ]
     },
     "execution_count": 16,
     "metadata": {},
     "output_type": "execute_result"
    },
    {
     "data": {
      "image/png": "[encoded data removed]",
      "text/plain": [
       "<Figure size 2160x576 with 2 Axes>"
      ]
     },
     "metadata": {
      "filenames": {
       "image/png": "D:\\DCU\\4th_year\\CA4015\\CA4015-Music-RecSystem\\book\\_build\\jupyter_execute\\Matrix_Factorization_30_2.png"
      },
      "needs_background": "light"
     },
     "output_type": "display_data"
    }
   ],
   "source": [
    "reg_model = build_regularized_model(\n",
    "    rating_matrix, num_queries=num_users , num_items=num_artists, regularization_coeff=0.5,\n",
    "    gravity_coeff=1.0, embedding_dim=35, init_stddev=.05)\n",
    "reg_model.train(num_iterations=2000, learning_rate=20.)"
   ]
  },
  {
   "cell_type": "markdown",
   "id": "100854cc",
   "metadata": {},
   "source": [
    "### Regularised Model Analysis\n",
    "If we compare the graph on the left of our regularised model to the graph of our unregularised model, we can see that our regularised model has higher loss values. Higher loss values for an MF recommender system can be favourable to a certain degree. This is because our scoring functions (\"DOT\" and \"COSINE\") regularly make recommendations for items based on popularity. It's important for recommendation systems to include some type of personalisation in their recommendations, otherwise they will just recommend the most popular items to all users, which is useful to no one.\n",
    "\n",
    "---\n",
    "\n",
    "As before, we can now take a closer look at our embeddings. Let's once again view the embeddings near Adele, and try to interpret and compare them to our previous embeddings for our unregularised model. Let's first inspect the dot product as our measure, followed by cosine."
   ]
  },
  {
   "cell_type": "code",
   "execution_count": 64,
   "id": "1fe7d88b",
   "metadata": {},
   "outputs": [
    {
     "name": "stdout",
     "output_type": "stream",
     "text": [
      "Nearest neighbors of : Adele.\n"
     ]
    },
    {
     "data": {
      "text/html": [
       "<div>\n",
       "<style scoped>\n",
       "    .dataframe tbody tr th:only-of-type {\n",
       "        vertical-align: middle;\n",
       "    }\n",
       "\n",
       "    .dataframe tbody tr th {\n",
       "        vertical-align: top;\n",
       "    }\n",
       "\n",
       "    .dataframe thead th {\n",
       "        text-align: right;\n",
       "    }\n",
       "</style>\n",
       "<table border=\"1\" class=\"dataframe\">\n",
       "  <thead>\n",
       "    <tr style=\"text-align: right;\">\n",
       "      <th></th>\n",
       "      <th>dot score</th>\n",
       "      <th>name</th>\n",
       "    </tr>\n",
       "  </thead>\n",
       "  <tbody>\n",
       "    <tr>\n",
       "      <th>83</th>\n",
       "      <td>4.443</td>\n",
       "      <td>Lady Gaga</td>\n",
       "    </tr>\n",
       "    <tr>\n",
       "      <th>61</th>\n",
       "      <td>4.409</td>\n",
       "      <td>Madonna</td>\n",
       "    </tr>\n",
       "    <tr>\n",
       "      <th>283</th>\n",
       "      <td>4.404</td>\n",
       "      <td>Britney Spears</td>\n",
       "    </tr>\n",
       "    <tr>\n",
       "      <th>282</th>\n",
       "      <td>4.375</td>\n",
       "      <td>Rihanna</td>\n",
       "    </tr>\n",
       "    <tr>\n",
       "      <th>294</th>\n",
       "      <td>4.375</td>\n",
       "      <td>Katy Perry</td>\n",
       "    </tr>\n",
       "    <tr>\n",
       "      <th>327</th>\n",
       "      <td>4.375</td>\n",
       "      <td>Avril Lavigne</td>\n",
       "    </tr>\n",
       "  </tbody>\n",
       "</table>\n",
       "</div>"
      ],
      "text/plain": [
       "     dot score            name\n",
       "83       4.443       Lady Gaga\n",
       "61       4.409         Madonna\n",
       "283      4.404  Britney Spears\n",
       "282      4.375         Rihanna\n",
       "294      4.375      Katy Perry\n",
       "327      4.375   Avril Lavigne"
      ]
     },
     "metadata": {},
     "output_type": "display_data"
    },
    {
     "name": "stdout",
     "output_type": "stream",
     "text": [
      "Nearest neighbors of : Adele.\n"
     ]
    },
    {
     "data": {
      "text/html": [
       "<div>\n",
       "<style scoped>\n",
       "    .dataframe tbody tr th:only-of-type {\n",
       "        vertical-align: middle;\n",
       "    }\n",
       "\n",
       "    .dataframe tbody tr th {\n",
       "        vertical-align: top;\n",
       "    }\n",
       "\n",
       "    .dataframe thead th {\n",
       "        text-align: right;\n",
       "    }\n",
       "</style>\n",
       "<table border=\"1\" class=\"dataframe\">\n",
       "  <thead>\n",
       "    <tr style=\"text-align: right;\">\n",
       "      <th></th>\n",
       "      <th>dot score</th>\n",
       "      <th>name</th>\n",
       "    </tr>\n",
       "  </thead>\n",
       "  <tbody>\n",
       "    <tr>\n",
       "      <th>1919</th>\n",
       "      <td>1.196</td>\n",
       "      <td>Adele</td>\n",
       "    </tr>\n",
       "    <tr>\n",
       "      <th>1444</th>\n",
       "      <td>1.168</td>\n",
       "      <td>Selena Gomez</td>\n",
       "    </tr>\n",
       "    <tr>\n",
       "      <th>334</th>\n",
       "      <td>1.164</td>\n",
       "      <td>Cher</td>\n",
       "    </tr>\n",
       "    <tr>\n",
       "      <th>518</th>\n",
       "      <td>1.161</td>\n",
       "      <td>Jeffree Star</td>\n",
       "    </tr>\n",
       "    <tr>\n",
       "      <th>303</th>\n",
       "      <td>1.153</td>\n",
       "      <td>Danity Kane</td>\n",
       "    </tr>\n",
       "    <tr>\n",
       "      <th>1449</th>\n",
       "      <td>1.152</td>\n",
       "      <td>Miranda Cosgrove</td>\n",
       "    </tr>\n",
       "  </tbody>\n",
       "</table>\n",
       "</div>"
      ],
      "text/plain": [
       "      dot score              name\n",
       "1919      1.196             Adele\n",
       "1444      1.168      Selena Gomez\n",
       "334       1.164              Cher\n",
       "518       1.161      Jeffree Star\n",
       "303       1.153       Danity Kane\n",
       "1449      1.152  Miranda Cosgrove"
      ]
     },
     "metadata": {},
     "output_type": "display_data"
    }
   ],
   "source": [
    "item_neighbors(reg_model,title_substring=\"Adele\", measure='dot', items=artists)\n",
    "item_neighbors(model,title_substring=\"Adele\", measure='dot', items=artists)"
   ]
  },
  {
   "cell_type": "markdown",
   "id": "56bd0bd2",
   "metadata": {},
   "source": [
    "### Dot Product Comparison of Embeddings in Regularised and Unregularised\n",
    "I think it's clear that although both models do make somewhat reasonable recommendations, the more appropriate embedding space is definitely found in the regularised model. The unregularised model seems to make less useful recommendations such as 'Miranda Cosgrove', and 'Jefree Star'. The regularised model returns popular, solo-female artists that may not make music exactly similar to Adele, but were equally as popular as Adele in 2011."
   ]
  },
  {
   "cell_type": "code",
   "execution_count": 65,
   "id": "15c820a5",
   "metadata": {},
   "outputs": [
    {
     "name": "stdout",
     "output_type": "stream",
     "text": [
      "Nearest neighbors of : Adele.\n"
     ]
    },
    {
     "data": {
      "text/html": [
       "<div>\n",
       "<style scoped>\n",
       "    .dataframe tbody tr th:only-of-type {\n",
       "        vertical-align: middle;\n",
       "    }\n",
       "\n",
       "    .dataframe tbody tr th {\n",
       "        vertical-align: top;\n",
       "    }\n",
       "\n",
       "    .dataframe thead th {\n",
       "        text-align: right;\n",
       "    }\n",
       "</style>\n",
       "<table border=\"1\" class=\"dataframe\">\n",
       "  <thead>\n",
       "    <tr style=\"text-align: right;\">\n",
       "      <th></th>\n",
       "      <th>cosine score</th>\n",
       "      <th>name</th>\n",
       "    </tr>\n",
       "  </thead>\n",
       "  <tbody>\n",
       "    <tr>\n",
       "      <th>1919</th>\n",
       "      <td>1.000</td>\n",
       "      <td>Adele</td>\n",
       "    </tr>\n",
       "    <tr>\n",
       "      <th>1444</th>\n",
       "      <td>0.954</td>\n",
       "      <td>Selena Gomez</td>\n",
       "    </tr>\n",
       "    <tr>\n",
       "      <th>1449</th>\n",
       "      <td>0.951</td>\n",
       "      <td>Miranda Cosgrove</td>\n",
       "    </tr>\n",
       "    <tr>\n",
       "      <th>518</th>\n",
       "      <td>0.950</td>\n",
       "      <td>Jeffree Star</td>\n",
       "    </tr>\n",
       "    <tr>\n",
       "      <th>532</th>\n",
       "      <td>0.950</td>\n",
       "      <td>Maroon 5</td>\n",
       "    </tr>\n",
       "    <tr>\n",
       "      <th>680</th>\n",
       "      <td>0.949</td>\n",
       "      <td>Selena Gomez &amp; the Scene</td>\n",
       "    </tr>\n",
       "  </tbody>\n",
       "</table>\n",
       "</div>"
      ],
      "text/plain": [
       "      cosine score                      name\n",
       "1919         1.000                     Adele\n",
       "1444         0.954              Selena Gomez\n",
       "1449         0.951          Miranda Cosgrove\n",
       "518          0.950              Jeffree Star\n",
       "532          0.950                  Maroon 5\n",
       "680          0.949  Selena Gomez & the Scene"
      ]
     },
     "metadata": {},
     "output_type": "display_data"
    },
    {
     "name": "stdout",
     "output_type": "stream",
     "text": [
      "Nearest neighbors of : Adele.\n"
     ]
    },
    {
     "data": {
      "text/html": [
       "<div>\n",
       "<style scoped>\n",
       "    .dataframe tbody tr th:only-of-type {\n",
       "        vertical-align: middle;\n",
       "    }\n",
       "\n",
       "    .dataframe tbody tr th {\n",
       "        vertical-align: top;\n",
       "    }\n",
       "\n",
       "    .dataframe thead th {\n",
       "        text-align: right;\n",
       "    }\n",
       "</style>\n",
       "<table border=\"1\" class=\"dataframe\">\n",
       "  <thead>\n",
       "    <tr style=\"text-align: right;\">\n",
       "      <th></th>\n",
       "      <th>cosine score</th>\n",
       "      <th>name</th>\n",
       "    </tr>\n",
       "  </thead>\n",
       "  <tbody>\n",
       "    <tr>\n",
       "      <th>1919</th>\n",
       "      <td>1.000</td>\n",
       "      <td>Adele</td>\n",
       "    </tr>\n",
       "    <tr>\n",
       "      <th>673</th>\n",
       "      <td>0.999</td>\n",
       "      <td>Glee Cast</td>\n",
       "    </tr>\n",
       "    <tr>\n",
       "      <th>542</th>\n",
       "      <td>0.999</td>\n",
       "      <td>Ellie Goulding</td>\n",
       "    </tr>\n",
       "    <tr>\n",
       "      <th>91</th>\n",
       "      <td>0.999</td>\n",
       "      <td>Duffy</td>\n",
       "    </tr>\n",
       "    <tr>\n",
       "      <th>1043</th>\n",
       "      <td>0.999</td>\n",
       "      <td>Pink</td>\n",
       "    </tr>\n",
       "    <tr>\n",
       "      <th>3061</th>\n",
       "      <td>0.999</td>\n",
       "      <td>Sara Bareilles</td>\n",
       "    </tr>\n",
       "  </tbody>\n",
       "</table>\n",
       "</div>"
      ],
      "text/plain": [
       "      cosine score            name\n",
       "1919         1.000           Adele\n",
       "673          0.999       Glee Cast\n",
       "542          0.999  Ellie Goulding\n",
       "91           0.999           Duffy\n",
       "1043         0.999            Pink\n",
       "3061         0.999  Sara Bareilles"
      ]
     },
     "metadata": {},
     "output_type": "display_data"
    }
   ],
   "source": [
    "item_neighbors(model,title_substring=\"Adele\", measure='cosine', items=artists)\n",
    "item_neighbors(reg_model, title_substring=\"Adele\", measure='cosine', items=artists)"
   ]
  },
  {
   "cell_type": "markdown",
   "id": "10cecaa1",
   "metadata": {},
   "source": [
    "### Cosine Comparison of Embeddings in Regularised and Unregularised\n",
    "We see a similar behaviour here, in that the regularised model embeddings are clearly more suitable. The appearance of *Glee Cast* as the most similar artist to Adele did seem like a strange recommendation. However, I found an [article](https://tvline.com/2011/11/17/glee-adele-rumor-has-it-someone-like-you/) that gives meaning to this recommendation. In 2011, Glee aired a mash-up of Adele's \"Rumor Has It / Someone Like You\" in one of their episodes which saw their iTunes song release reach No.1 on the charts.\n",
    "\n",
    "Once again, we see the regularised model recommending popular solo-female artists from that time. Both cosine and dot product recommendations seem suitable for Adele.\n",
    "\n",
    "---\n",
    "## Norm Embedding Analysis\n",
    "As previously, we will now view our model embeddings. We can see in the below image that the regularised model was able to break the plateaux previously observed in the unregularised model. As a result, this model is able to give more appropriate recommendations.\n",
    "\n",
    "The below graph visually shows an improvement over our unregularised model. We see that embeddings no longer plateaux beyond a certain point, which leads to better recommendations."
   ]
  },
  {
   "cell_type": "code",
   "execution_count": 66,
   "id": "0113f663",
   "metadata": {},
   "outputs": [
    {
     "data": {
      "image/png": "[encoded data removed]",
      "text/plain": [
       "<Figure size 720x720 with 1 Axes>"
      ]
     },
     "metadata": {
      "filenames": {
       "image/png": "D:\\DCU\\4th_year\\CA4015\\CA4015-Music-RecSystem\\book\\_build\\jupyter_execute\\Matrix_Factorization_36_0.png"
      },
      "needs_background": "light"
     },
     "output_type": "display_data"
    }
   ],
   "source": [
    "item_embedding_norm(reg_model, artist_tot_listens, rating_matrix)"
   ]
  }
 ],
 "metadata": {
  "kernelspec": {
   "display_name": "Python 3",
   "language": "python",
   "name": "python3"
  },
  "language_info": {
   "codemirror_mode": {
    "name": "ipython",
    "version": 3
   },
   "file_extension": ".py",
   "mimetype": "text/x-python",
   "name": "python",
   "nbconvert_exporter": "python",
   "pygments_lexer": "ipython3",
   "version": "3.8.6"
  }
 },
 "nbformat": 4,
 "nbformat_minor": 5
}