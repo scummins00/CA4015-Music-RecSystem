{
 "cells": [
  {
   "cell_type": "markdown",
   "id": "78f5feb5",
   "metadata": {},
   "source": [
    "# Data Wrangling\n",
    "In this Notebook, we will be performing all the pre-requisite data operations required for the construction of our recommender system. In particular, we will be creating our ratings matrix $A$, where a given entry $A_{ij}$ indicates the amount a user $i$ has listened to an artist $j$. As in an given case a particular user will have listened to only a subset of artists, the matrix will be very sparse. "
   ]
  },
  {
   "cell_type": "code",
   "execution_count": 1,
   "id": "3c3bf9a8",
   "metadata": {},
   "outputs": [],
   "source": [
    "import pandas as pd\n",
    "import numpy as np"
   ]
  },
  {
   "cell_type": "code",
   "execution_count": 2,
   "id": "810d84a0",
   "metadata": {},
   "outputs": [],
   "source": [
    "#Constructing matrix A\n",
    "\n"
   ]
  }
 ],
 "metadata": {
  "kernelspec": {
   "display_name": "Python 3",
   "language": "python",
   "name": "python3"
  },
  "language_info": {
   "codemirror_mode": {
    "name": "ipython",
    "version": 3
   },
   "file_extension": ".py",
   "mimetype": "text/x-python",
   "name": "python",
   "nbconvert_exporter": "python",
   "pygments_lexer": "ipython3",
   "version": "3.8.6"
  }
 },
 "nbformat": 4,
 "nbformat_minor": 5
}