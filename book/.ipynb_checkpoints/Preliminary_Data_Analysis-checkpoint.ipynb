{
 "cells": [
  {
   "cell_type": "markdown",
   "id": "f8ddb80c",
   "metadata": {},
   "source": [
    "# Preliminary Data Analysis\n",
    "\n",
    "## Objective\n",
    "The following notebook aims to perform some preliminary data analysis on the last.fm dataset used at HetRec2011 which can be found [Here](https://grouplens.org/datasets/hetrec-2011/). We aim to perform the following analysis:\n",
    "\n",
    "* **Missing Values**\n",
    "    * Test for the occurence of missing values across our data\n",
    "    * Understand the impact of missing values on our analysis\n",
    "* **Data Distribution**\n",
    "    * Is a particular genre over or under represented?\n",
    "    * With respect to users-artists, what is the distribution of 'number of listens'?\n",
    "\n",
    "As well as these defined objectives, this notebook intends to explore our data, and develop a sense for the nature of the information and how disparate data sources relate to one another."
   ]
  },
  {
   "cell_type": "code",
   "execution_count": 1,
   "id": "ce05fd88",
   "metadata": {},
   "outputs": [],
   "source": [
    "import pandas as pd\n",
    "import numpy as np\n",
    "import matplotlib.pyplot as plt\n",
    "import seaborn as sns"
   ]
  },
  {
   "cell_type": "code",
   "execution_count": 2,
   "id": "b6c67560",
   "metadata": {},
   "outputs": [
    {
     "data": {
      "text/html": [
       "<div>\n",
       "<style scoped>\n",
       "    .dataframe tbody tr th:only-of-type {\n",
       "        vertical-align: middle;\n",
       "    }\n",
       "\n",
       "    .dataframe tbody tr th {\n",
       "        vertical-align: top;\n",
       "    }\n",
       "\n",
       "    .dataframe thead th {\n",
       "        text-align: right;\n",
       "    }\n",
       "</style>\n",
       "<table border=\"1\" class=\"dataframe\">\n",
       "  <thead>\n",
       "    <tr style=\"text-align: right;\">\n",
       "      <th></th>\n",
       "      <th>userID</th>\n",
       "      <th>artistID</th>\n",
       "      <th>weight</th>\n",
       "    </tr>\n",
       "  </thead>\n",
       "  <tbody>\n",
       "    <tr>\n",
       "      <th>0</th>\n",
       "      <td>2</td>\n",
       "      <td>51</td>\n",
       "      <td>13883</td>\n",
       "    </tr>\n",
       "    <tr>\n",
       "      <th>1</th>\n",
       "      <td>2</td>\n",
       "      <td>52</td>\n",
       "      <td>11690</td>\n",
       "    </tr>\n",
       "    <tr>\n",
       "      <th>2</th>\n",
       "      <td>2</td>\n",
       "      <td>53</td>\n",
       "      <td>11351</td>\n",
       "    </tr>\n",
       "    <tr>\n",
       "      <th>3</th>\n",
       "      <td>2</td>\n",
       "      <td>54</td>\n",
       "      <td>10300</td>\n",
       "    </tr>\n",
       "    <tr>\n",
       "      <th>4</th>\n",
       "      <td>2</td>\n",
       "      <td>55</td>\n",
       "      <td>8983</td>\n",
       "    </tr>\n",
       "  </tbody>\n",
       "</table>\n",
       "</div>"
      ],
      "text/plain": [
       "   userID  artistID  weight\n",
       "0       2        51   13883\n",
       "1       2        52   11690\n",
       "2       2        53   11351\n",
       "3       2        54   10300\n",
       "4       2        55    8983"
      ]
     },
     "execution_count": 2,
     "metadata": {},
     "output_type": "execute_result"
    }
   ],
   "source": [
    "#Let's view the user-artist data first\n",
    "user_artist = pd.read_csv('../data/user_artists.dat', sep='\\t', encoding='latin-1')\n",
    "user_artist.head()"
   ]
  },
  {
   "cell_type": "markdown",
   "id": "b7eadeee",
   "metadata": {},
   "source": [
    "## Missing Values"
   ]
  },
  {
   "cell_type": "code",
   "execution_count": 3,
   "id": "3a0fcfdd",
   "metadata": {},
   "outputs": [
    {
     "name": "stdout",
     "output_type": "stream",
     "text": [
      "Reading file: artists.dat | Contains missing data: True\n",
      "Reading file: tags.dat | Contains missing data: False\n",
      "Reading file: user_artists.dat | Contains missing data: False\n",
      "Reading file: user_friends.dat | Contains missing data: False\n",
      "Reading file: user_taggedartists-timestamps.dat | Contains missing data: False\n",
      "Reading file: user_taggedartists.dat | Contains missing data: False\n"
     ]
    }
   ],
   "source": [
    "#Test for the occurence of missing values\n",
    "import os\n",
    "for file in os.listdir('../data/'):\n",
    "    if file != 'readme.txt':\n",
    "        df = pd.read_csv(f'../data/{file}', sep='\\t', encoding='latin-1')\n",
    "        print(f'Reading file: {file} | Contains missing data: {df.isnull().values.any()}')"
   ]
  },
  {
   "cell_type": "code",
   "execution_count": 4,
   "id": "eac09b1d",
   "metadata": {},
   "outputs": [
    {
     "data": {
      "text/plain": [
       "(17632, 4)"
      ]
     },
     "execution_count": 4,
     "metadata": {},
     "output_type": "execute_result"
    }
   ],
   "source": [
    "#Investigating missing data in artists.dat\n",
    "artists = pd.read_csv('../data/artists.dat', sep='\\t', encoding='latin-1')\n",
    "artists.shape"
   ]
  },
  {
   "cell_type": "code",
   "execution_count": 5,
   "id": "0049c4a4",
   "metadata": {},
   "outputs": [
    {
     "data": {
      "text/plain": [
       "(444, 4)"
      ]
     },
     "execution_count": 5,
     "metadata": {},
     "output_type": "execute_result"
    }
   ],
   "source": [
    "#Total number of rows in artists with missing values\n",
    "artists[artists.isna().any(axis=1)].shape"
   ]
  },
  {
   "cell_type": "code",
   "execution_count": 6,
   "id": "e9fdd703",
   "metadata": {},
   "outputs": [
    {
     "name": "stdout",
     "output_type": "stream",
     "text": [
      "Column: id | Contains missing data: False\n",
      "Column: name | Contains missing data: False\n",
      "Column: url | Contains missing data: False\n",
      "Column: pictureURL | Contains missing data: True\n"
     ]
    }
   ],
   "source": [
    "#Columns in artists with missing values\n",
    "for col in artists.columns:\n",
    "    print(f'Column: {col} | Contains missing data: {artists[col].isnull().values.any()}')"
   ]
  },
  {
   "cell_type": "code",
   "execution_count": 7,
   "id": "17549a82",
   "metadata": {},
   "outputs": [
    {
     "name": "stdout",
     "output_type": "stream",
     "text": [
      "True\n",
      "True\n"
     ]
    }
   ],
   "source": [
    "#Let's check that artist names and ID's are unique\n",
    "print(artists.id.is_unique)\n",
    "print(artists.name.is_unique)"
   ]
  },
  {
   "cell_type": "markdown",
   "id": "7524fb65",
   "metadata": {},
   "source": [
    "### Findings\n",
    "The data is very clean with $5/6$ datasets having no missing values. The artists data does contain missing values, however only in the 'pictureURL' column. This column will not be a fundamental part of any analysis. Therefore, there is no impact of missing values on our data.\n",
    "\n",
    "---"
   ]
  },
  {
   "cell_type": "markdown",
   "id": "b853bd71",
   "metadata": {},
   "source": [
    "## Data Distribution"
   ]
  },
  {
   "cell_type": "code",
   "execution_count": 8,
   "id": "c88355fb",
   "metadata": {},
   "outputs": [
    {
     "data": {
      "text/html": [
       "<div>\n",
       "<style scoped>\n",
       "    .dataframe tbody tr th:only-of-type {\n",
       "        vertical-align: middle;\n",
       "    }\n",
       "\n",
       "    .dataframe tbody tr th {\n",
       "        vertical-align: top;\n",
       "    }\n",
       "\n",
       "    .dataframe thead th {\n",
       "        text-align: right;\n",
       "    }\n",
       "</style>\n",
       "<table border=\"1\" class=\"dataframe\">\n",
       "  <thead>\n",
       "    <tr style=\"text-align: right;\">\n",
       "      <th></th>\n",
       "      <th>userID</th>\n",
       "      <th>artistID</th>\n",
       "      <th>tagID</th>\n",
       "      <th>day</th>\n",
       "      <th>month</th>\n",
       "      <th>year</th>\n",
       "    </tr>\n",
       "  </thead>\n",
       "  <tbody>\n",
       "    <tr>\n",
       "      <th>0</th>\n",
       "      <td>2</td>\n",
       "      <td>52</td>\n",
       "      <td>13</td>\n",
       "      <td>1</td>\n",
       "      <td>4</td>\n",
       "      <td>2009</td>\n",
       "    </tr>\n",
       "    <tr>\n",
       "      <th>1</th>\n",
       "      <td>2</td>\n",
       "      <td>52</td>\n",
       "      <td>15</td>\n",
       "      <td>1</td>\n",
       "      <td>4</td>\n",
       "      <td>2009</td>\n",
       "    </tr>\n",
       "    <tr>\n",
       "      <th>2</th>\n",
       "      <td>2</td>\n",
       "      <td>52</td>\n",
       "      <td>18</td>\n",
       "      <td>1</td>\n",
       "      <td>4</td>\n",
       "      <td>2009</td>\n",
       "    </tr>\n",
       "    <tr>\n",
       "      <th>3</th>\n",
       "      <td>2</td>\n",
       "      <td>52</td>\n",
       "      <td>21</td>\n",
       "      <td>1</td>\n",
       "      <td>4</td>\n",
       "      <td>2009</td>\n",
       "    </tr>\n",
       "    <tr>\n",
       "      <th>4</th>\n",
       "      <td>2</td>\n",
       "      <td>52</td>\n",
       "      <td>41</td>\n",
       "      <td>1</td>\n",
       "      <td>4</td>\n",
       "      <td>2009</td>\n",
       "    </tr>\n",
       "  </tbody>\n",
       "</table>\n",
       "</div>"
      ],
      "text/plain": [
       "   userID  artistID  tagID  day  month  year\n",
       "0       2        52     13    1      4  2009\n",
       "1       2        52     15    1      4  2009\n",
       "2       2        52     18    1      4  2009\n",
       "3       2        52     21    1      4  2009\n",
       "4       2        52     41    1      4  2009"
      ]
     },
     "execution_count": 8,
     "metadata": {},
     "output_type": "execute_result"
    }
   ],
   "source": [
    "# Let's investigate how different genres are represented in our data\n",
    "tagged_artists = pd.read_csv('../data/user_taggedartists.dat', sep='\\t', encoding='latin-1')\n",
    "tags = pd.read_csv('../data/tags.dat', sep='\\t', encoding='latin-1')\n",
    "tagged_artists.head()"
   ]
  },
  {
   "cell_type": "code",
   "execution_count": 19,
   "id": "e030ed8b",
   "metadata": {},
   "outputs": [],
   "source": [
    "#Let's count the tags that appear\n",
    "tag_count = tagged_artists[['tagID', 'artistID']].groupby('tagID').count().reset_index()\n",
    "tag_count.rename({'artistID':'count'}, axis=1, inplace=True)\n",
    "\n",
    "#Find string text values\n",
    "tag_text = tag_count.merge(tags, on='tagID')\n",
    "\n",
    "#Extract top 20 tags\n",
    "top_20_tags = tag_text.sort_values(by='count', ascending=False).iloc[:20]"
   ]
  },
  {
   "cell_type": "code",
   "execution_count": 21,
   "id": "669f7161",
   "metadata": {},
   "outputs": [
    {
     "data": {
      "image/png": "[encoded data removed]",
      "text/plain": [
       "<Figure size 720x504 with 1 Axes>"
      ]
     },
     "metadata": {
      "needs_background": "light"
     },
     "output_type": "display_data"
    }
   ],
   "source": [
    "# Initialize the matplotlib figure\n",
    "f, ax = plt.subplots(figsize=(10, 7))\n",
    "\n",
    "col = sns.color_palette(\"hls\", 20)\n",
    "\n",
    "sns.barplot(x='count', y='tagValue', data=top_20_tags,\n",
    "            label=\"tagValue\", palette=col)\n",
    "\n",
    "plt.title('Most Common Tags')\n",
    "plt.ylabel('Tag')\n",
    "plt.xlabel('Count')\n",
    "plt.show()"
   ]
  },
  {
   "cell_type": "code",
   "execution_count": 22,
   "id": "7d1f2cb5",
   "metadata": {},
   "outputs": [],
   "source": [
    "#Let's investigate the distribution of number of total listens by users\n",
    "listen_per_user = user_artist[['userID', 'weight']].groupby('userID').sum()\n",
    "\n",
    "#Give each user a bin to fit in\n",
    "listen_per_user['bin'] = pd.cut(listen_per_user.weight, 20, precision=2)\n",
    "\n",
    "#Count how many users per bin\n",
    "count_per_bin = listen_per_user.groupby('bin').count()"
   ]
  },
  {
   "cell_type": "code",
   "execution_count": 23,
   "id": "943e836d",
   "metadata": {},
   "outputs": [
    {
     "data": {
      "image/png": "[encoded data removed]",
      "text/plain": [
       "<Figure size 720x504 with 1 Axes>"
      ]
     },
     "metadata": {
      "needs_background": "light"
     },
     "output_type": "display_data"
    }
   ],
   "source": [
    "#Plot the bins\n",
    "f, ax = plt.subplots(figsize=(10, 7))\n",
    "\n",
    "col = sns.color_palette(\"Set2\", 8)\n",
    "\n",
    "sns.barplot(x='weight', y='bin', data=count_per_bin.reset_index(),\n",
    "            label=\"bin\", palette=col)\n",
    "\n",
    "plt.title('User Listening Categories')\n",
    "plt.ylabel('Total Listening Count (Bins)')\n",
    "plt.xlabel('Number of Users')\n",
    "plt.show()"
   ]
  },
  {
   "cell_type": "code",
   "execution_count": 24,
   "id": "6c00b3c1",
   "metadata": {},
   "outputs": [
    {
     "data": {
      "image/png": "[encoded data removed]",
      "text/plain": [
       "<Figure size 504x504 with 1 Axes>"
      ]
     },
     "metadata": {
      "needs_background": "light"
     },
     "output_type": "display_data"
    }
   ],
   "source": [
    "#Same graph but as a conventional histogram\n",
    "plt.figure(figsize=(7,7))\n",
    "listening_habits = user_artist[['userID', 'weight']].groupby('userID').sum()\n",
    "\n",
    "plt.hist(listening_habits.weight, bins=20)\n",
    "plt.title('User Listening Habits')\n",
    "plt.xlabel('Music Listen Count')\n",
    "plt.ylabel('Number of Users')\n",
    "plt.grid(True)\n",
    "plt.show()"
   ]
  },
  {
   "cell_type": "code",
   "execution_count": 25,
   "id": "e8f951f0",
   "metadata": {},
   "outputs": [
    {
     "name": "stdout",
     "output_type": "stream",
     "text": [
      "Users in largest bin: 1022 | Portion of total: 54.02%\n",
      "Users in second largest bin: 466 | Portion of total: 24.63%\n",
      "Users in third largest bin: 171 | Portion of total: 9.04%\n",
      "The mean of user listening habits: 36566.58\n"
     ]
    }
   ],
   "source": [
    "# What portion of users are contained within the first bins\n",
    "bin_1 = count_per_bin.iloc[0][0]\n",
    "bin_2 = count_per_bin.iloc[1][0]\n",
    "bin_3 = count_per_bin.iloc[2][0]\n",
    "total_pop = len(user_artist.userID.unique())\n",
    "print(f'Users in largest bin: {bin_1} | Portion of total: {(bin_1/total_pop)*100:.2f}%')\n",
    "print(f'Users in second largest bin: {bin_2} | Portion of total: {(bin_2/total_pop)*100:.2f}%')\n",
    "print(f'Users in third largest bin: {bin_3} | Portion of total: {(bin_3/total_pop)*100:.2f}%')\n",
    "\n",
    "print(f'The mean of user listening habits: {listening_habits.weight.mean():.2f}')"
   ]
  },
  {
   "cell_type": "markdown",
   "id": "f5c08b33",
   "metadata": {},
   "source": [
    "### Findings\n",
    "As this dataset was used in 2011, the general music trends are those observed for that period. These musical trends differ substantially from the music we listen to today. Therefore, recommender systems build ontop of this data will produce recommendations biased towards that time period. This is not an error, rather just a property of the data.\n",
    "\n",
    "We see that **rock** features heavily in the top 20 tags found throughout the data, arising in many forms from metal and hard, to classic and indie. In terms of users listening habits, we observe that the vaste majority of users (**54%**) have listened to songs 24,000 or less times. By the third bin, a cummulative **87%** of users have listened to music 72,000 times or less. The majority of the final bins contain extraim outliers such as users who have listened to music over 480,000 times.\n",
    "\n",
    "I did expect user listening habits to follow more of a normal distribution, and was surprised to find the distribution follows a curve more closely related to exponential decay. The distribution is skewed to the right and decreases sharply. The mean is 36,566 listens."
   ]
  },
  {
   "cell_type": "markdown",
   "id": "2eed13f9",
   "metadata": {},
   "source": [
    "## Conclusions\n",
    "The usability of this data is quite high, therefore requiring only a short preliminary analysis. The data is clean and structured, featuring missing values only for unimportant features like 'pictureURL'. There are no duplicate artists featured in the data.\n",
    "\n",
    "An analysis of the user listening habits allows us to better understand the distribution of the data we are using. Investigation of the most popular tags used to describe music in this dataset helped us understand trends which are representative of the time period in which the data was released. With this knowledge, we will better understand the output of the recommender system we are developing later on."
   ]
  }
 ],
 "metadata": {
  "kernelspec": {
   "display_name": "Python 3",
   "language": "python",
   "name": "python3"
  },
  "language_info": {
   "codemirror_mode": {
    "name": "ipython",
    "version": 3
   },
   "file_extension": ".py",
   "mimetype": "text/x-python",
   "name": "python",
   "nbconvert_exporter": "python",
   "pygments_lexer": "ipython3",
   "version": "3.8.3"
  }
 },
 "nbformat": 4,
 "nbformat_minor": 5
}
