{
 "cells": [
  {
   "cell_type": "markdown",
   "id": "e0524d2b",
   "metadata": {},
   "source": [
    "# Deep Neural Network Recommender System\n",
    "In this Notebook, we will build another music recommendation system. This time, we will incorporate a deep learning approach as explained in the introduction. We will be using Keras on Tensorflow V2 for this model. Keras is a high-level API built on-top of Tensorflow. It offers a range of utilities for getting started with recommender systems which we will use throughout this Notebook."
   ]
  },
  {
   "cell_type": "code",
   "execution_count": 1,
   "id": "e914cb6b",
   "metadata": {},
   "outputs": [],
   "source": [
    "import os\n",
    "import pprint\n",
    "import tempfile\n",
    "\n",
    "from typing import Dict, Text\n",
    "\n",
    "import numpy as np\n",
    "import tensorflow as tf\n",
    "import pandas as pd\n",
    "import numpy as np\n",
    "from matplotlib import pyplot as plt"
   ]
  },
  {
   "cell_type": "code",
   "execution_count": 2,
   "id": "0d88004b",
   "metadata": {},
   "outputs": [],
   "source": [
    "import tensorflow_recommenders as tfrs\n",
    "import tensorflow_datasets as tfds"
   ]
  },
  {
   "cell_type": "markdown",
   "id": "e87c4a92",
   "metadata": {},
   "source": [
    "## Data Preprocessing\n",
    "Here we just repeat some data preprocessing steps as previous. However, we will incorporate a new way to normalise our weight values. In the previous notebook, the normalised weight values lead to poor performance of the model. Because of this, we opted to use a binary model. However, in this notebook we will normalise the weight column on a per user basis. This will be discussed shortly."
   ]
  },
  {
   "cell_type": "code",
   "execution_count": 153,
   "id": "d6c78b6d",
   "metadata": {},
   "outputs": [],
   "source": [
    "#Let's define our amount of users\n",
    "rating_matrix = pd.read_csv('../data/user_artists.dat', sep='\\t', encoding='latin-1')\n",
    "num_users = len(rating_matrix.userID.unique())\n",
    "\n",
    "#Extract userID column\n",
    "userids = np.asarray(rating_matrix.userID)\n",
    "\n",
    "#Remap the column\n",
    "u_mapper, u_ind = np.unique(userids, return_inverse=True)"
   ]
  },
  {
   "cell_type": "code",
   "execution_count": 154,
   "id": "b46555ad",
   "metadata": {},
   "outputs": [],
   "source": [
    "#Let's define our amount of artists\n",
    "artists = pd.read_csv('../data/artists.dat', sep='\\t', encoding='latin-1')\n",
    "artists.rename(columns={'id':'artistID'}, inplace=True)\n",
    "num_artists = len(artists.artistID.unique())\n",
    "\n",
    "#Extract artistID column\n",
    "artistids = np.asarray(rating_matrix.artistID)\n",
    "\n",
    "#Remap the column\n",
    "a_mapper, a_ind = np.unique(artistids, return_inverse=True)"
   ]
  },
  {
   "cell_type": "code",
   "execution_count": 155,
   "id": "b073f713",
   "metadata": {},
   "outputs": [],
   "source": [
    "# Let's replace old columns with new ind ones\n",
    "rating_matrix.userID = u_ind\n",
    "rating_matrix.artistID = a_ind\n",
    "\n",
    "#Let's ensure the max value is approriate\n",
    "assert(rating_matrix.userID.unique().max() == 1891)\n",
    "assert(rating_matrix.artistID.unique().max() == 17631)"
   ]
  },
  {
   "cell_type": "code",
   "execution_count": 156,
   "id": "6207f13d",
   "metadata": {},
   "outputs": [],
   "source": [
    "#We convert the ID's to string so we can use the StringLookup function later\n",
    "rating_matrix.userID = rating_matrix.userID.apply(str)\n",
    "rating_matrix.artistID = rating_matrix.artistID.apply(str)"
   ]
  },
  {
   "cell_type": "markdown",
   "id": "61408ac2",
   "metadata": {},
   "source": [
    "## Normalising the 'weight' Column\n",
    "Rather than normalising the entire weight column as one array, we can normalise the values for each user individually. Simply put, the artist that a particular user listens to the most will have a high value such as 1. The artist they listen to the least will be closer to 0.\n",
    "\n",
    "This is a better representation of a user's preferences than normalising the entire weight column, which can lead to very insignificant values. Normalising the entire weight column will lead to user-artist pairs having small values for weight solely because other users have listened to more music in general.\n",
    "\n",
    "In the following function, we create a new rating matrix which is populated by each users ratings one at a time. Once this is complete, we replace our old `rating_matrix` variable with `new_rating_matrix` to keep continuity of naming conventions."
   ]
  },
  {
   "cell_type": "code",
   "execution_count": 169,
   "id": "53877828",
   "metadata": {},
   "outputs": [
    {
     "name": "stderr",
     "output_type": "stream",
     "text": [
      "C:\\Users\\seanc\\AppData\\Local\\Temp/ipykernel_5620/4251931852.py:6: SettingWithCopyWarning: \n",
      "A value is trying to be set on a copy of a slice from a DataFrame.\n",
      "Try using .loc[row_indexer,col_indexer] = value instead\n",
      "\n",
      "See the caveats in the documentation: https://pandas.pydata.org/pandas-docs/stable/user_guide/indexing.html#returning-a-view-versus-a-copy\n",
      "  user_ratings['weight'] = tf.keras.utils.normalize(ratings, axis=-1, order=2)[0]\n"
     ]
    },
    {
     "data": {
      "text/html": [
       "<div>\n",
       "<style scoped>\n",
       "    .dataframe tbody tr th:only-of-type {\n",
       "        vertical-align: middle;\n",
       "    }\n",
       "\n",
       "    .dataframe tbody tr th {\n",
       "        vertical-align: top;\n",
       "    }\n",
       "\n",
       "    .dataframe thead th {\n",
       "        text-align: right;\n",
       "    }\n",
       "</style>\n",
       "<table border=\"1\" class=\"dataframe\">\n",
       "  <thead>\n",
       "    <tr style=\"text-align: right;\">\n",
       "      <th></th>\n",
       "      <th>weight</th>\n",
       "    </tr>\n",
       "  </thead>\n",
       "  <tbody>\n",
       "    <tr>\n",
       "      <th>count</th>\n",
       "      <td>92834.000000</td>\n",
       "    </tr>\n",
       "    <tr>\n",
       "      <th>mean</th>\n",
       "      <td>0.091235</td>\n",
       "    </tr>\n",
       "    <tr>\n",
       "      <th>std</th>\n",
       "      <td>0.109804</td>\n",
       "    </tr>\n",
       "    <tr>\n",
       "      <th>min</th>\n",
       "      <td>0.000008</td>\n",
       "    </tr>\n",
       "    <tr>\n",
       "      <th>25%</th>\n",
       "      <td>0.030397</td>\n",
       "    </tr>\n",
       "    <tr>\n",
       "      <th>50%</th>\n",
       "      <td>0.062543</td>\n",
       "    </tr>\n",
       "    <tr>\n",
       "      <th>75%</th>\n",
       "      <td>0.109109</td>\n",
       "    </tr>\n",
       "    <tr>\n",
       "      <th>max</th>\n",
       "      <td>1.000000</td>\n",
       "    </tr>\n",
       "  </tbody>\n",
       "</table>\n",
       "</div>"
      ],
      "text/plain": [
       "             weight\n",
       "count  92834.000000\n",
       "mean       0.091235\n",
       "std        0.109804\n",
       "min        0.000008\n",
       "25%        0.030397\n",
       "50%        0.062543\n",
       "75%        0.109109\n",
       "max        1.000000"
      ]
     },
     "execution_count": 169,
     "metadata": {},
     "output_type": "execute_result"
    }
   ],
   "source": [
    "#Let's normalise our weight column\n",
    "new_rating_matrix = pd.DataFrame(columns=['userID', 'artistID', 'weight'])\n",
    "for user_id in rating_matrix.userID.unique():\n",
    "    user_ratings = rating_matrix[rating_matrix.userID == user_id]\n",
    "    ratings = np.array(user_ratings['weight'])\n",
    "    user_ratings['weight'] = tf.keras.utils.normalize(ratings, axis=-1, order=2)[0]\n",
    "    new_rating_matrix = new_rating_matrix.append(user_ratings)\n",
    "rating_matrix = new_rating_matrix\n",
    "rating_matrix.describe()"
   ]
  },
  {
   "cell_type": "markdown",
   "id": "c1c5e944",
   "metadata": {},
   "source": [
    "## Create DataSet\n",
    "In the following cells, we will be creating a tensor DataSet using the `from_tensor_slices()` function. We must firstly create our `interactions_dict`, which is just our rating_matrix in dictionary form."
   ]
  },
  {
   "cell_type": "code",
   "execution_count": 170,
   "id": "2a76f605",
   "metadata": {},
   "outputs": [],
   "source": [
    "## we tansform the table inta a dictionary , which then we feed into tensor slices\n",
    "# this step is crucial as this will be the type of data fed into the embedding layers\n",
    "interactions_dict = {name: np.array(value) for name, value in rating_matrix.items()}\n",
    "interactions = tf.data.Dataset.from_tensor_slices(interactions_dict)\n",
    "\n",
    "## we do similar step for item, where this is the reference table for items to be recommended\n",
    "items_dict = rating_matrix[['artistID']].drop_duplicates()\n",
    "items_dict = {name: np.array(value) for name, value in items_dict.items()}\n",
    "items = tf.data.Dataset.from_tensor_slices(items_dict)\n",
    "\n",
    "## map the features in interactions and items to an identifier that we will use throught the embedding layers\n",
    "## do it for all the items in interaction and item table\n",
    "## you may often get itemtype error, so that is why here i am casting the quantity type as float to ensure consistency\n",
    "interactions = interactions.map(lambda x: {'userID' : x['userID'], \n",
    "                                            'artistID' : x['artistID'], \n",
    "                                            'weight' : x['weight']})\n",
    "\n",
    "items = items.map(lambda x: x['artistID'])"
   ]
  },
  {
   "cell_type": "markdown",
   "id": "14cdbf05",
   "metadata": {},
   "source": [
    "We must also create variables representing our unique user ID's and artist ID's.\n",
    "\n",
    "This will allow us to map the raw values of our categorical features to embeddings vectors in our models. For this, we need a vocabulary mapping raw feature values to an integfer in a contiguous range. This allows us to look up the corresponding embeddings in our tables."
   ]
  },
  {
   "cell_type": "code",
   "execution_count": 171,
   "id": "54c7d4a4",
   "metadata": {},
   "outputs": [],
   "source": [
    "### get unique item and user id's as a lookup table\n",
    "unique_artist_ids = (np.unique(a_ind)).astype(str)\n",
    "unique_user_ids = (np.unique(u_ind)).astype(str)\n",
    "\n",
    "# Randomly shuffle data and split between train and test.\n",
    "tf.random.set_seed(42)\n",
    "shuffled = interactions.shuffle(100_000, seed=42, reshuffle_each_iteration=False)\n",
    "train = shuffled.take(62_000)\n",
    "test = shuffled.skip(62_000).take(30_000)"
   ]
  },
  {
   "cell_type": "code",
   "execution_count": 172,
   "id": "52e96fb0",
   "metadata": {},
   "outputs": [
    {
     "name": "stdout",
     "output_type": "stream",
     "text": [
      "our test set is: 62000\n",
      "our train set is: 30000\n"
     ]
    }
   ],
   "source": [
    "print(f'our test set is: {len(train)}')\n",
    "print(f'our train set is: {len(test)}')"
   ]
  },
  {
   "cell_type": "markdown",
   "id": "d9b5caad",
   "metadata": {},
   "source": [
    "## Simple Retrieval Model\n",
    "In the following cells, we define a simple retrieval model. Although defined differently, this model works on the same principals as our previous matrix factorisation model. We just include this step as a progression towards a more advanced deep learning model.\n",
    "\n",
    "The TFRS package with Keras makes development of recommender systems simple and intuitive. We simply inherit from the base `tfrs.Model` class, define our query (user) and item (artist) towers or embeddings, then define our loss function and metrics to be used and our model is ready to deploy."
   ]
  },
  {
   "cell_type": "code",
   "execution_count": 136,
   "id": "f4ee3270",
   "metadata": {},
   "outputs": [],
   "source": [
    "#Basic retrieval model\n",
    "    def __init__(self, user_model, item_model):\n",
    "        super().__init__()\n",
    "\n",
    "        ### we pass the embedding layer into item model\n",
    "        self.item_model: tf.keras.Model = item_model\n",
    "            \n",
    "        ### We pass the embedding layer into user model\n",
    "        self.user_model: tf.keras.Model = user_model\n",
    "        \n",
    "        ### for retrieval model. we take top-k accuracy as metrics\n",
    "        metrics = tfrs.metrics.FactorizedTopK(candidates=items.batch(128).map(item_model))\n",
    "        \n",
    "        # define the task, which is retrieval                                        \n",
    "        task = tfrs.tasks.Retrieval(metrics=metrics)\n",
    "        self.task: tf.keras.layers.Layer = task\n",
    "\n",
    "    def compute_loss(self, features: Dict[Text, tf.Tensor], training=False) -> tf.Tensor:\n",
    "        # We pick out the user features and pass them into the user model.\n",
    "        user_embeddings = self.user_model(features[\"userID\"])\n",
    "        # And pick out the item features and pass them into the item model,\n",
    "        # getting embeddings back.\n",
    "        positive_item_embeddings = self.item_model(features[\"artistID\"])\n",
    "\n",
    "        # The task computes the loss and the metrics.\n",
    "        return self.task(user_embeddings, positive_item_embeddings)"
   ]
  },
  {
   "cell_type": "markdown",
   "id": "cb57ccc2",
   "metadata": {},
   "source": [
    "## Train and Evaluate Model\n",
    "The following cell is used to train and evaluate our model. We firstly define the size of our embedding dimensions. Then, we build our user and item embedding vectors using `tf.keras.layers.Embedding`. In this function, we add an additional embedding layer to account for unknown tokens (if any).\n",
    "\n",
    "We simply instantiate our model and compile it with an optimisation function of our choice. We will use Adagrad in this instance. We then fit the model on our training data and provide our number of epochs. Following from this, we fit the data on our test set."
   ]
  },
  {
   "cell_type": "code",
   "execution_count": 137,
   "id": "a5e8fdf0",
   "metadata": {
    "scrolled": false
   },
   "outputs": [
    {
     "name": "stdout",
     "output_type": "stream",
     "text": [
      "Epoch 1/10\n",
      "7/7 [==============================] - 54s 7s/step - factorized_top_k/top_1_categorical_accuracy: 0.0016 - factorized_top_k/top_5_categorical_accuracy: 0.0114 - factorized_top_k/top_10_categorical_accuracy: 0.0237 - factorized_top_k/top_50_categorical_accuracy: 0.0783 - factorized_top_k/top_100_categorical_accuracy: 0.1086 - loss: 72704.5215 - regularization_loss: 0.0000e+00 - total_loss: 72704.5215  \n",
      "Epoch 2/10\n",
      "7/7 [==============================] - 57s 8s/step - factorized_top_k/top_1_categorical_accuracy: 0.0080 - factorized_top_k/top_5_categorical_accuracy: 0.0430 - factorized_top_k/top_10_categorical_accuracy: 0.0805 - factorized_top_k/top_50_categorical_accuracy: 0.2462 - factorized_top_k/top_100_categorical_accuracy: 0.3486 - loss: 69661.6450 - regularization_loss: 0.0000e+00 - total_loss: 69661.6450\n",
      "Epoch 3/10\n",
      "7/7 [==============================] - 58s 8s/step - factorized_top_k/top_1_categorical_accuracy: 0.0091 - factorized_top_k/top_5_categorical_accuracy: 0.0512 - factorized_top_k/top_10_categorical_accuracy: 0.0927 - factorized_top_k/top_50_categorical_accuracy: 0.2789 - factorized_top_k/top_100_categorical_accuracy: 0.3953 - loss: 65582.3188 - regularization_loss: 0.0000e+00 - total_loss: 65582.3188\n",
      "Epoch 4/10\n",
      "7/7 [==============================] - 58s 8s/step - factorized_top_k/top_1_categorical_accuracy: 0.0099 - factorized_top_k/top_5_categorical_accuracy: 0.0615 - factorized_top_k/top_10_categorical_accuracy: 0.1117 - factorized_top_k/top_50_categorical_accuracy: 0.3244 - factorized_top_k/top_100_categorical_accuracy: 0.4520 - loss: 61863.0859 - regularization_loss: 0.0000e+00 - total_loss: 61863.0859\n",
      "Epoch 5/10\n",
      "7/7 [==============================] - 58s 8s/step - factorized_top_k/top_1_categorical_accuracy: 0.0100 - factorized_top_k/top_5_categorical_accuracy: 0.0696 - factorized_top_k/top_10_categorical_accuracy: 0.1288 - factorized_top_k/top_50_categorical_accuracy: 0.3822 - factorized_top_k/top_100_categorical_accuracy: 0.5333 - loss: 58430.2305 - regularization_loss: 0.0000e+00 - total_loss: 58430.2305\n",
      "Epoch 6/10\n",
      "7/7 [==============================] - 59s 8s/step - factorized_top_k/top_1_categorical_accuracy: 0.0091 - factorized_top_k/top_5_categorical_accuracy: 0.0715 - factorized_top_k/top_10_categorical_accuracy: 0.1387 - factorized_top_k/top_50_categorical_accuracy: 0.4615 - factorized_top_k/top_100_categorical_accuracy: 0.6190 - loss: 55323.5352 - regularization_loss: 0.0000e+00 - total_loss: 55323.5352\n",
      "Epoch 7/10\n",
      "7/7 [==============================] - 58s 8s/step - factorized_top_k/top_1_categorical_accuracy: 0.0079 - factorized_top_k/top_5_categorical_accuracy: 0.0679 - factorized_top_k/top_10_categorical_accuracy: 0.1340 - factorized_top_k/top_50_categorical_accuracy: 0.5257 - factorized_top_k/top_100_categorical_accuracy: 0.6553 - loss: 52639.0669 - regularization_loss: 0.0000e+00 - total_loss: 52639.0669\n",
      "Epoch 8/10\n",
      "7/7 [==============================] - 58s 8s/step - factorized_top_k/top_1_categorical_accuracy: 0.0060 - factorized_top_k/top_5_categorical_accuracy: 0.0604 - factorized_top_k/top_10_categorical_accuracy: 0.1397 - factorized_top_k/top_50_categorical_accuracy: 0.5488 - factorized_top_k/top_100_categorical_accuracy: 0.6621 - loss: 50468.8599 - regularization_loss: 0.0000e+00 - total_loss: 50468.8599\n",
      "Epoch 9/10\n",
      "7/7 [==============================] - 62s 9s/step - factorized_top_k/top_1_categorical_accuracy: 0.0044 - factorized_top_k/top_5_categorical_accuracy: 0.0600 - factorized_top_k/top_10_categorical_accuracy: 0.1734 - factorized_top_k/top_50_categorical_accuracy: 0.5566 - factorized_top_k/top_100_categorical_accuracy: 0.6640 - loss: 48793.3975 - regularization_loss: 0.0000e+00 - total_loss: 48793.3975\n",
      "Epoch 10/10\n",
      "7/7 [==============================] - 59s 8s/step - factorized_top_k/top_1_categorical_accuracy: 0.0037 - factorized_top_k/top_5_categorical_accuracy: 0.0724 - factorized_top_k/top_10_categorical_accuracy: 0.2022 - factorized_top_k/top_50_categorical_accuracy: 0.5613 - factorized_top_k/top_100_categorical_accuracy: 0.6661 - loss: 47525.4175 - regularization_loss: 0.0000e+00 - total_loss: 47525.4175\n",
      "3/3 [==============================] - 29s 9s/step - factorized_top_k/top_1_categorical_accuracy: 1.3333e-04 - factorized_top_k/top_5_categorical_accuracy: 0.0015 - factorized_top_k/top_10_categorical_accuracy: 0.0056 - factorized_top_k/top_50_categorical_accuracy: 0.0702 - factorized_top_k/top_100_categorical_accuracy: 0.1372 - loss: 89393.0645 - regularization_loss: 0.0000e+00 - total_loss: 89393.0645\n"
     ]
    },
    {
     "data": {
      "text/plain": [
       "<matplotlib.legend.Legend at 0x15d8642d3d0>"
      ]
     },
     "execution_count": 137,
     "metadata": {},
     "output_type": "execute_result"
    },
    {
     "data": {
      "image/png": "[encoded data removed]",
      "text/plain": [
       "<Figure size 432x288 with 1 Axes>"
      ]
     },
     "metadata": {
      "needs_background": "light"
     },
     "output_type": "display_data"
    }
   ],
   "source": [
    "### Fitting and evaluating\n",
    "### we choose the dimensionality of the query and candicate representation.\n",
    "embedding_dimension = 32\n",
    "## we pass the model, which is the same model we created in the query and candidate tower, into the model\n",
    "user_model = tf.keras.Sequential(\n",
    "    [tf.keras.layers.experimental.preprocessing.StringLookup(\n",
    "                                vocabulary=unique_user_ids, mask_token=None),\n",
    "                                # We add an additional embedding to account for unknown tokens.\n",
    "                                tf.keras.layers.Embedding(len(unique_user_ids) + 1, embedding_dimension)])\n",
    "\n",
    "item_model = tf.keras.Sequential(\n",
    "    [tf.keras.layers.experimental.preprocessing.StringLookup(\n",
    "                                vocabulary=unique_artist_ids, mask_token=None),\n",
    "                                tf.keras.layers.Embedding(len(unique_artist_ids) + 1, embedding_dimension)])\n",
    "\n",
    "model = MusicModel(user_model, item_model)\n",
    "\n",
    "# a smaller learning rate may make the model move slower and prone to overfitting, so we stick to 0.1\n",
    "# other optimizers, such as SGD and Adam, are listed here https://www.tensorflow.org/api_docs/python/tf/keras/optimizers\n",
    "model.compile(optimizer=tf.keras.optimizers.Adagrad(learning_rate=0.1))\n",
    "cached_train = train.shuffle(100_000).batch(10_000).cache()\n",
    "cached_test = test.batch(10_000).cache()\n",
    "\n",
    "## fit the model with ten epochs\n",
    "model_hist = model.fit(cached_train, epochs=10)\n",
    "\n",
    "#evaluate the model\n",
    "model.evaluate(cached_test, return_dict=True)\n",
    "\n",
    "# num_validation_runs = len(one_layer_history.history[\"val_factorized_top_k/top_100_categorical_accuracy\"])\n",
    "epochs = [i for i in range(10)]\n",
    "\n",
    "plt.plot(epochs, model_hist.history[\"factorized_top_k/top_100_categorical_accuracy\"], label=\"accuracy\")\n",
    "plt.title(\"Accuracy vs epoch\")\n",
    "plt.xlabel(\"epoch\")\n",
    "plt.ylabel(\"Top-100 accuracy\");\n",
    "plt.legend()"
   ]
  },
  {
   "cell_type": "markdown",
   "id": "44f0f81e",
   "metadata": {},
   "source": [
    "## Simple Retrieval Model Analysis\n",
    "The above model trains for 10 epoch and is then evaluated on testing data. In the training epoch information, we see information such as `top_5_categorical_accuracy`. This is indicative of the models ability to return a true-positive in the top-5 retrieved items (artists) from the entire set. We see that for each epoch, the model generally gets better at returning true-positives.\n",
    "\n",
    "In the evaluation information, we see these accuracies drop significantly. This signifies that are model is overfitting to our training data. We can introduce regularisation terms as previous to mitigate this effect. Also, in deep learning models, we may introduce more user and artist features that help the model generalise better."
   ]
  },
  {
   "cell_type": "code",
   "execution_count": 138,
   "id": "5971aec4",
   "metadata": {},
   "outputs": [
    {
     "name": "stdout",
     "output_type": "stream",
     "text": [
      "Recommendations for user 10: [['Savage Garden']\n",
      " ['Ke$ha']\n",
      " ['Library Tapes']\n",
      " ['nevershoutnever!']\n",
      " ['Poney Express']\n",
      " ['Ra Ra Riot']\n",
      " ['The Rakes']\n",
      " ['Astrud Gilberto']\n",
      " ['Bon Iver']\n",
      " ['Metro Station']]\n"
     ]
    }
   ],
   "source": [
    "# Create a model that takes in raw query features, and\n",
    "index = tfrs.layers.factorized_top_k.BruteForce(model.user_model)\n",
    "# recommends item out of the entire items dataset.\n",
    "index.index_from_dataset(\n",
    "    tf.data.Dataset.zip(items.batch(100).map(model.item_model)))\n",
    "\n",
    "# Get recommendations.\n",
    "j = str(10)\n",
    "_, titles = index(tf.constant([j]))\n",
    "\n",
    "arr = np.array(titles)[0]\n",
    "names = []\n",
    "\n",
    "for artist_id in arr:\n",
    "    names.append(artists[artists['artistID'] == int(artist_id)]['name'])\n",
    "names = np.asarray(names)\n",
    "print(f\"Recommendations for user %s: {names}\" %(j))"
   ]
  },
  {
   "cell_type": "markdown",
   "id": "ca7a52c5",
   "metadata": {},
   "source": [
    "## Ranking Model\n",
    "In the following cells, we will upgrade from our previous model by using a ranking model. In this model, we will be making use of `dense` keras layers with 'RELU' activation functions. This is a deep learning approach. We will also be attempting to make use of the explicit rating values in the `weight` column of our rating matrix. \n",
    "\n",
    "Moderm recommender systems usually operate in two stages:\n",
    "* Retrieval\n",
    "* Ranking\n",
    "\n",
    "We will firstly define our `RankingModel` class which will act as our ranking model. Our `MusicModel` will act as the retrieval model as previous."
   ]
  },
  {
   "cell_type": "code",
   "execution_count": 173,
   "id": "9646e789",
   "metadata": {},
   "outputs": [],
   "source": [
    "#Define our ranking model\n",
    "class RankingModel(tf.keras.Model):\n",
    "    def __init__(self):\n",
    "        super().__init__()\n",
    "        embedding_dimension = 32\n",
    "\n",
    "        ### we pass the embedding layer into item model\n",
    "        self.item_model: tf.keras.Model = item_model\n",
    "            \n",
    "        ### We pass the embedding layer into user model\n",
    "        self.user_model: tf.keras.Model = user_model\n",
    "\n",
    "        # Compute predictions.\n",
    "        self.ratings = tf.keras.Sequential([\n",
    "                      # Learn multiple dense layers.\n",
    "                      tf.keras.layers.Dense(256, activation=\"relu\"),\n",
    "                      tf.keras.layers.Dense(64, activation=\"relu\"),\n",
    "                      # Make rating predictions in the final layer.\n",
    "                      tf.keras.layers.Dense(1)])\n",
    "\n",
    "    def call(self, inputs):\n",
    "        user_id, item_title = inputs\n",
    "        user_embedding = self.user_model(user_id)\n",
    "        item_embedding = self.item_model(item_title)\n",
    "        return self.ratings(tf.concat([user_embedding, item_embedding], axis=1))"
   ]
  },
  {
   "cell_type": "code",
   "execution_count": 174,
   "id": "701edf35",
   "metadata": {},
   "outputs": [],
   "source": [
    "#Now our base retrieval model incorporates our ranking model\n",
    "class MusicModel(tfrs.models.Model):\n",
    "\n",
    "    def __init__(self):\n",
    "        super().__init__()\n",
    "        self.ranking_model: tf.keras.Model = RankingModel()\n",
    "            \n",
    "        #Let's define our Loss function and optimisation function\n",
    "        self.task: tf.keras.layers.Layer = tfrs.tasks.Ranking(\n",
    "                          loss = tf.keras.losses.MeanSquaredError(),\n",
    "                          metrics=[tf.keras.metrics.RootMeanSquaredError()])\n",
    "    \n",
    "    def call(self, features: Dict[str, tf.Tensor]) -> tf.Tensor:\n",
    "        return self.ranking_model(\n",
    "            (features[\"userID\"], features[\"artistID\"]))\n",
    "\n",
    "    def compute_loss(self, features: Dict[Text, tf.Tensor], training=False) -> tf.Tensor:\n",
    "        rating_predictions = self.ranking_model(\n",
    "            (features[\"userID\"], features[\"artistID\"]))\n",
    "\n",
    "        # The task computes the loss and the metrics.\n",
    "        return self.task(labels=features[\"weight\"], predictions=rating_predictions)"
   ]
  },
  {
   "cell_type": "markdown",
   "id": "51ef5528",
   "metadata": {},
   "source": [
    "**Note**: This model differs to our previous retrieval model as we are now incorporating the weight column, whereas our previous model worked solely on binary values. This Deep Learning Framework is more robust and can handle the disparity between values in our weight column. We normalised our weight column values earlier. This is an important preprocessing step to achieve good model performance."
   ]
  },
  {
   "cell_type": "code",
   "execution_count": 175,
   "id": "30fa0e9c",
   "metadata": {
    "scrolled": false
   },
   "outputs": [
    {
     "name": "stdout",
     "output_type": "stream",
     "text": [
      "Epoch 1/10\n",
      "7/7 [==============================] - 2s 78ms/step - root_mean_squared_error: 0.1133 - loss: 0.0129 - regularization_loss: 0.0000e+00 - total_loss: 0.0129\n",
      "Epoch 2/10\n",
      "7/7 [==============================] - 0s 48ms/step - root_mean_squared_error: 0.1097 - loss: 0.0123 - regularization_loss: 0.0000e+00 - total_loss: 0.0123\n",
      "Epoch 3/10\n",
      "7/7 [==============================] - 0s 48ms/step - root_mean_squared_error: 0.1096 - loss: 0.0123 - regularization_loss: 0.0000e+00 - total_loss: 0.0123\n",
      "Epoch 4/10\n",
      "7/7 [==============================] - 0s 44ms/step - root_mean_squared_error: 0.1095 - loss: 0.0123 - regularization_loss: 0.0000e+00 - total_loss: 0.0123\n",
      "Epoch 5/10\n",
      "7/7 [==============================] - 0s 48ms/step - root_mean_squared_error: 0.1095 - loss: 0.0123 - regularization_loss: 0.0000e+00 - total_loss: 0.0123\n",
      "Epoch 6/10\n",
      "7/7 [==============================] - 0s 50ms/step - root_mean_squared_error: 0.1094 - loss: 0.0122 - regularization_loss: 0.0000e+00 - total_loss: 0.0122\n",
      "Epoch 7/10\n",
      "7/7 [==============================] - 0s 49ms/step - root_mean_squared_error: 0.1094 - loss: 0.0122 - regularization_loss: 0.0000e+00 - total_loss: 0.0122\n",
      "Epoch 8/10\n",
      "7/7 [==============================] - 0s 45ms/step - root_mean_squared_error: 0.1093 - loss: 0.0122 - regularization_loss: 0.0000e+00 - total_loss: 0.0122\n",
      "Epoch 9/10\n",
      "7/7 [==============================] - 0s 45ms/step - root_mean_squared_error: 0.1093 - loss: 0.0122 - regularization_loss: 0.0000e+00 - total_loss: 0.0122\n",
      "Epoch 10/10\n",
      "7/7 [==============================] - 0s 48ms/step - root_mean_squared_error: 0.1093 - loss: 0.0122 - regularization_loss: 0.0000e+00 - total_loss: 0.0122\n",
      "3/3 [==============================] - 1s 70ms/step - root_mean_squared_error: 0.1113 - loss: 0.0122 - regularization_loss: 0.0000e+00 - total_loss: 0.0122\n"
     ]
    },
    {
     "data": {
      "text/plain": [
       "{'root_mean_squared_error': 0.11132322996854782,\n",
       " 'loss': 0.011565779335796833,\n",
       " 'regularization_loss': 0,\n",
       " 'total_loss': 0.011565779335796833}"
      ]
     },
     "execution_count": 175,
     "metadata": {},
     "output_type": "execute_result"
    }
   ],
   "source": [
    "### Fitting and evaluating\n",
    "### we choose the dimensionality of the query and candicate representation.\n",
    "embedding_dimension = 32\n",
    "## we pass the model, which is the same model we created in the query and candidate tower, into the model\n",
    "user_model = tf.keras.Sequential(\n",
    "    [tf.keras.layers.experimental.preprocessing.StringLookup(\n",
    "                                vocabulary=unique_user_ids, mask_token=None),\n",
    "                                # We add an additional embedding to account for unknown tokens.\n",
    "                                tf.keras.layers.Embedding(len(unique_user_ids) + 1, embedding_dimension)])\n",
    "\n",
    "item_model = tf.keras.Sequential(\n",
    "    [tf.keras.layers.experimental.preprocessing.StringLookup(\n",
    "                                vocabulary=unique_artist_ids, mask_token=None),\n",
    "                                tf.keras.layers.Embedding(len(unique_artist_ids) + 1, embedding_dimension)])\n",
    "\n",
    "model = MusicModel()\n",
    "\n",
    "# a smaller learning rate may make the model move slower and prone to overfitting, so we stick to 0.1\n",
    "# other optimizers, such as SGD and Adam, are listed here https://www.tensorflow.org/api_docs/python/tf/keras/optimizers\n",
    "model.compile(optimizer=tf.keras.optimizers.Adagrad(learning_rate=0.1))\n",
    "cached_train = train.shuffle(100_000).batch(10_000).cache()\n",
    "cached_test = test.batch(10_000).cache()\n",
    "\n",
    "## fit the model with ten epochs\n",
    "model_hist = model.fit(cached_train, epochs=10)\n",
    "\n",
    "#evaluate the model\n",
    "model.evaluate(cached_test, return_dict=True)"
   ]
  },
  {
   "cell_type": "markdown",
   "id": "44ffc17f",
   "metadata": {},
   "source": [
    "## Ranking Model Performance Analysis\n",
    "We allowed our model to train for a total of 10 epochs before being evaluated on unseen testing data. Using RMSE as our objective function, we see this model is able to achieve great performance. The performance of our model does not drop significantly for unseen data.\n",
    "\n",
    "Using RMSE as our metric allows us to quantitately compare the performance of this model with our previous matrix factorisation approach. In matrix factorisation, we achieved: \n",
    "* `'train_error': 0.15067895, 'test_error': 0.23825963` for our unregularised model. \n",
    "* `'train_error': 0.29663688, 'test_error': 0.32661134` for our regularised model.\n",
    "\n",
    "We noted that the increase in error for our regularised model leads to better generalisations. In this deep learning model, we achieved:\n",
    "* `'train_error': 0.1093, 'test_error': 0.1113`.\n",
    "\n",
    "---\n",
    "## Qualitative Performance Analysis\n",
    "Although the quantitative analysis of this model seems good, we do not know whether this leads to good recommendations or not. Let's perform a qualitative analysis of the model. We'll do the following:\n",
    "* Take a typical user with a reasonable amount of artists they listen to\n",
    "* Sample 5 random artists they listen to\n",
    "* Along with the user id, provide the artist id's selected to our model\n",
    "* We expect our model to return a ranking of these artist ID's in the order that the user is most interested in them."
   ]
  },
  {
   "cell_type": "code",
   "execution_count": 192,
   "id": "3ec7ae83",
   "metadata": {},
   "outputs": [
    {
     "data": {
      "text/html": [
       "<div>\n",
       "<style scoped>\n",
       "    .dataframe tbody tr th:only-of-type {\n",
       "        vertical-align: middle;\n",
       "    }\n",
       "\n",
       "    .dataframe tbody tr th {\n",
       "        vertical-align: top;\n",
       "    }\n",
       "\n",
       "    .dataframe thead th {\n",
       "        text-align: right;\n",
       "    }\n",
       "</style>\n",
       "<table border=\"1\" class=\"dataframe\">\n",
       "  <thead>\n",
       "    <tr style=\"text-align: right;\">\n",
       "      <th></th>\n",
       "      <th>userID</th>\n",
       "      <th>artistID</th>\n",
       "      <th>weight</th>\n",
       "    </tr>\n",
       "  </thead>\n",
       "  <tbody>\n",
       "    <tr>\n",
       "      <th>4986</th>\n",
       "      <td>100</td>\n",
       "      <td>2649</td>\n",
       "      <td>0.205387</td>\n",
       "    </tr>\n",
       "    <tr>\n",
       "      <th>4980</th>\n",
       "      <td>100</td>\n",
       "      <td>2146</td>\n",
       "      <td>0.164745</td>\n",
       "    </tr>\n",
       "    <tr>\n",
       "      <th>4990</th>\n",
       "      <td>100</td>\n",
       "      <td>2653</td>\n",
       "      <td>0.150230</td>\n",
       "    </tr>\n",
       "    <tr>\n",
       "      <th>4972</th>\n",
       "      <td>100</td>\n",
       "      <td>769</td>\n",
       "      <td>0.137167</td>\n",
       "    </tr>\n",
       "    <tr>\n",
       "      <th>4996</th>\n",
       "      <td>100</td>\n",
       "      <td>2659</td>\n",
       "      <td>0.083461</td>\n",
       "    </tr>\n",
       "  </tbody>\n",
       "</table>\n",
       "</div>"
      ],
      "text/plain": [
       "     userID artistID    weight\n",
       "4986    100     2649  0.205387\n",
       "4980    100     2146  0.164745\n",
       "4990    100     2653  0.150230\n",
       "4972    100      769  0.137167\n",
       "4996    100     2659  0.083461"
      ]
     },
     "execution_count": 192,
     "metadata": {},
     "output_type": "execute_result"
    }
   ],
   "source": [
    "#User 100\n",
    "user_0 = rating_matrix[rating_matrix['userID'] == \"100\"]\n",
    "\n",
    "#Sample 5 artists they listen to\n",
    "user_0_sample = user_0.sample(5, random_state=74)\n",
    "user_0_sample"
   ]
  },
  {
   "cell_type": "markdown",
   "id": "687389ef",
   "metadata": {},
   "source": [
    "The following cell takes in artist ID's and a userID and computes a score for their combination. The model returns the artists in order of the scores they achieve. We expect this order to be similar to the order shown in the above sample."
   ]
  },
  {
   "cell_type": "code",
   "execution_count": 206,
   "id": "1107f064",
   "metadata": {},
   "outputs": [
    {
     "name": "stdout",
     "output_type": "stream",
     "text": [
      "Ratings:\n",
      "2649: [[0.09791555]]\n",
      "2653: [[0.09428623]]\n",
      "2146: [[0.0825875]]\n",
      "769: [[0.08212695]]\n",
      "2659: [[0.07627478]]\n"
     ]
    }
   ],
   "source": [
    "test_ratings = {}\n",
    "test_artist_ids = np.array([\"2649\", \"2146\", \"2653\", \"769\", \"2659\"])\n",
    "for artistid in test_artist_ids:\n",
    "    test_ratings[artistid] = model({\n",
    "        \"userID\": np.array([\"100\"]),\n",
    "        \"artistID\": np.array([artistid])\n",
    "    })\n",
    "\n",
    "print(\"Ratings:\")\n",
    "for artist, score in sorted(test_ratings.items(), key=lambda x: x[1], reverse=True):\n",
    "    print(f\"{artist}: {score}\")"
   ]
  },
  {
   "cell_type": "markdown",
   "id": "ad8befbd",
   "metadata": {},
   "source": [
    "### Output Analysis\n",
    "We can see in the above cell that from the 5 sampled artists, our recommender system correctly identified the most liked artist as \"2649\". The system did rank \"2653\" in second place, when in reality that artist is the user's third favourite artist. However, the true ratings of the second and third most liked artist for this particular user differ only marginally.\n",
    "\n",
    "From this small example, we can see that our model performs quite well.\n",
    "\n",
    "---\n",
    "\n",
    "## Conclusion\n",
    "In this notebook, we were able to create a two-part recommender system using Tensorflow V2. Modern recommender systems commonly adopt a two-step approach to making recommendations. The first step involves retrieving items that a particular query (user) will enjoy. The second step involves ranking this items and returning the ranked list to the user.\n",
    "\n",
    "There exists plenty room to expand our model from here. TensorFlow offers a vast amount of API's for further expansion of recommender systems. In the grand scheme of things, this system is still considered quite trivial despite making strong recommendations. In our next notebook, we will attempt to incorporate some extra features into our recommendation system, such as genre tags as well as timestamps for when these genres were applied."
   ]
  }
 ],
 "metadata": {
  "kernelspec": {
   "display_name": "Python 3",
   "language": "python",
   "name": "python3"
  },
  "language_info": {
   "codemirror_mode": {
    "name": "ipython",
    "version": 3
   },
   "file_extension": ".py",
   "mimetype": "text/x-python",
   "name": "python",
   "nbconvert_exporter": "python",
   "pygments_lexer": "ipython3",
   "version": "3.8.3"
  }
 },
 "nbformat": 4,
 "nbformat_minor": 5
}
