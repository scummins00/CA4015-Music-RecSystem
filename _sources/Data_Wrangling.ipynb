{
 "cells": [
  {
   "cell_type": "markdown",
   "id": "78f5feb5",
   "metadata": {},
   "source": [
    "# Data Wrangling\n",
    "In this Notebook, we will be performing all the pre-requisite data operations required for the construction of our recommender system. Firstly, we will be remapping user ID numbers and artist ID numbers to fit between the scale defined as the total number of users or artists.\n",
    "\n",
    "Currently, there are 1,892 users. But users can have ID's such as 1,893, 1,900, 2,100, etc.\n",
    "The same situation occurs for our 17,632 artists."
   ]
  },
  {
   "cell_type": "code",
   "execution_count": 40,
   "id": "3c3bf9a8",
   "metadata": {},
   "outputs": [],
   "source": [
    "import pandas as pd\n",
    "import numpy as np\n",
    "import random,time,math\n",
    "import sys,os"
   ]
  },
  {
   "cell_type": "code",
   "execution_count": 47,
   "id": "3f0d956e",
   "metadata": {},
   "outputs": [],
   "source": [
    "f_triplets_tr = '../data/songs/train_triplets.txt/train_triplets.txt'"
   ]
  },
  {
   "cell_type": "code",
   "execution_count": 43,
   "id": "c602ac53",
   "metadata": {},
   "outputs": [],
   "source": [
    "#Helper functions\n",
    "\n",
    "def song_to_count(if_str):\n",
    "    stc=dict()\n",
    "    with open(if_str,\"r\") as f:\n",
    "        for line in f:\n",
    "            _,song,_=line.strip().split('\\t')\n",
    "            if song in stc:\n",
    "                stc[song]+=1\n",
    "            else:\n",
    "                stc[song]=1\n",
    "    return stc\n",
    "\n",
    "def user_to_count(if_str):\n",
    "    utc=dict()\n",
    "    with open(if_str,\"r\") as f:\n",
    "        for line in f:\n",
    "            user,_,_=line.strip().split('\\t')\n",
    "            if user in utc:\n",
    "                utc[user]+=1\n",
    "            else:\n",
    "                utc[user]=1\n",
    "    return utc\n",
    "\n",
    "def sort_dict_dec(d):\n",
    "    return sorted(d.keys(),key=lambda s:d[s],reverse=True)\n",
    "\n",
    "def song_to_users(if_str,set_users=None, ratio=1.0):\n",
    "    stu=dict()\n",
    "    with open(if_str,\"r\") as f:\n",
    "        for line in f:\n",
    "            if random.random()<ratio:\n",
    "                user,song,_=line.strip().split('\\t')\n",
    "                if not set_users or user in set_users:\n",
    "                    if song in stu:\n",
    "                        stu[song].add(user)\n",
    "                    else:\n",
    "                        stu[song]=set([user])\n",
    "    return stu\n",
    "\n",
    "def user_to_songs(if_str):\n",
    "    uts=dict()\n",
    "    with open(if_str,\"r\") as f:\n",
    "        for line in f:\n",
    "            user,song,_=line.strip().split('\\t')\n",
    "            if user in uts:\n",
    "                uts[user].add(song)\n",
    "            else:\n",
    "                uts[user]=set([song])\n",
    "    return uts\n",
    "\n",
    "def load_unique_tracks(if_str):\n",
    "    ut=[]\n",
    "    with open(if_str,\"r\") as f:\n",
    "        for line in f:\n",
    "            a_id,s_id,a,s=line.strip().split('<SEP>')\n",
    "            ut.append((a_id,s_id,a,s))\n",
    "    return ut\n",
    "\n",
    "def load_users(if_str):\n",
    "    with open(if_str,\"r\") as f:\n",
    "        u=map(lambda line: line.strip(),f.readlines())\n",
    "    return u\n",
    "\n",
    "def song_to_idx(if_str):\n",
    "    with open(if_str,\"r\") as f:\n",
    "        sti=dict(map(lambda line: line.strip().split(' '),f.readlines()))\n",
    "    return sti\n",
    "\n",
    "def unique_users(if_str):\n",
    "    u=set()\n",
    "    with open(if_str,\"r\") as f:\n",
    "        for line in f:\n",
    "            user,_,_=line.strip().split('\\t')\n",
    "            if user not in u:\n",
    "                u.add(user)\n",
    "    return u \n",
    "\n",
    "def save_recommendations(r,songs_file,ofile):\n",
    "    print(\"Loading song indices from \" + songs_file)\n",
    "    s2i=song_to_idx(songs_file)\n",
    "    print(\"Saving recommendations\")\n",
    "    f=open(ofile,\"w\")\n",
    "    for r_songs in r:\n",
    "        indices=map(lambda s: s2i[s],r_songs)\n",
    "        f.write(\" \".join(indices)+\"\\n\")\n",
    "    f.close()\n",
    "    print(\"Ok.\")"
   ]
  },
  {
   "cell_type": "code",
   "execution_count": 37,
   "id": "64bc5f1b",
   "metadata": {},
   "outputs": [],
   "source": [
    "stc = song_to_count('../data/songs/train_triplets.txt/train_triplets.txt')"
   ]
  },
  {
   "cell_type": "code",
   "execution_count": 49,
   "id": "f67f68d2",
   "metadata": {},
   "outputs": [
    {
     "name": "stdout",
     "output_type": "stream",
     "text": [
      "loading unique users indexes\n"
     ]
    }
   ],
   "source": [
    "print (\"loading unique users indexes\")\n",
    "uu = unique_users(f_triplets_tr)\n",
    "u2i = {}\n",
    "for i,u in enumerate(uu):\n",
    "    u2i[u]=i"
   ]
  },
  {
   "cell_type": "code",
   "execution_count": null,
   "id": "ebc4d898",
   "metadata": {},
   "outputs": [],
   "source": []
  }
 ],
 "metadata": {
  "kernelspec": {
   "display_name": "Python 3",
   "language": "python",
   "name": "python3"
  },
  "language_info": {
   "codemirror_mode": {
    "name": "ipython",
    "version": 3
   },
   "file_extension": ".py",
   "mimetype": "text/x-python",
   "name": "python",
   "nbconvert_exporter": "python",
   "pygments_lexer": "ipython3",
   "version": "3.8.3"
  }
 },
 "nbformat": 4,
 "nbformat_minor": 5
}
